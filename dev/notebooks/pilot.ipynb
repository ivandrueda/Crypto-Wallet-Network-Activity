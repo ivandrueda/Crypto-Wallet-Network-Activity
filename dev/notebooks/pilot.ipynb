{
 "cells": [
  {
   "cell_type": "markdown",
   "metadata": {},
   "source": [
    "# Pilot Notebook: Token Transaction Network Analysis\n",
    "\n",
    "This Jupyter notebook demonstrates the core functionality of the Token Transaction Network Analyzer, visualizing wallet-to-wallet transaction patterns in token exchange networks. The notebook showcases how to:\n",
    "\n",
    "1. Load and preprocess transaction data from CSV exports\n",
    "2. Construct a directed graph representing the transaction network\n",
    "3. Calculate key metrics like transaction concentration and wallet diversity\n",
    "4. Generate an interactive visualization highlighting transaction patterns\n",
    "5. Detect wallets driving significant network activity\n",
    "\n",
    "The visualization reveals transaction flow dynamics with color-coded nodes representing different wallet behaviors (senders, receivers, concentrated activity) and weighted edges showing transaction frequency between wallets. The accompanying data tables provide detailed metrics on the most active wallets and high-frequency transaction pairs.\n",
    "\n",
    "This notebook serves as both a demonstration and a starting point for customizing the analysis to your specific token transaction datasets."
   ]
  },
  {
   "cell_type": "markdown",
   "metadata": {},
   "source": [
    "# Environment Setup"
   ]
  },
  {
   "cell_type": "code",
   "execution_count": 1,
   "metadata": {},
   "outputs": [],
   "source": [
    "import polars as pl\n",
    "import networkx as nx\n",
    "import plotly.graph_objects as go\n",
    "from plotly.subplots import make_subplots\n",
    "import numpy as np\n",
    "\n",
    "# Load the CSV data\n",
    "df = pl.read_csv(\"/Users/ivan/Desktop/1. Projects/Crypto-Wallet-Network-Activity/dev/test_data/export-token-0x8a16d4bf8a0a716017e8d2262c4ac32927797a2f.csv\",\n",
    "                 truncate_ragged_lines=True)"
   ]
  },
  {
   "cell_type": "code",
   "execution_count": 2,
   "metadata": {},
   "outputs": [
    {
     "data": {
      "text/html": [
       "<div><style>\n",
       ".dataframe > thead > tr,\n",
       ".dataframe > tbody > tr {\n",
       "  text-align: right;\n",
       "  white-space: pre-wrap;\n",
       "}\n",
       "</style>\n",
       "<small>shape: (25, 11)</small><table border=\"1\" class=\"dataframe\"><thead><tr><th>Transaction Hash</th><th>Status</th><th>Method</th><th>BlockNo</th><th>DateTime (UTC)</th><th>From</th><th>From_Nametag</th><th>To</th><th>To_Nametag</th><th>Amount</th><th>Value (USD)</th></tr><tr><td>str</td><td>str</td><td>str</td><td>i64</td><td>str</td><td>str</td><td>str</td><td>str</td><td>str</td><td>f64</td><td>str</td></tr></thead><tbody><tr><td>&quot;0xde14df2cf61003f6eba54740dfdd…</td><td>&quot;Success&quot;</td><td>&quot;0x000000ab&quot;</td><td>69258893</td><td>&quot;2025-03-19 23:58:33&quot;</td><td>&quot;0x2Fef6792255c4A901D11d5a92Bb4…</td><td>&quot;&quot;</td><td>&quot;0x214b36Cc2Dc66424DA969FCa2494…</td><td>&quot;&quot;</td><td>0.514805</td><td>&quot;$10.09&quot;</td></tr><tr><td>&quot;0xde14df2cf61003f6eba54740dfdd…</td><td>&quot;Success&quot;</td><td>&quot;0x000000ab&quot;</td><td>69258893</td><td>&quot;2025-03-19 23:58:33&quot;</td><td>&quot;0xa18D1319b944a79d4bCC9F1D0B5D…</td><td>&quot;&quot;</td><td>&quot;0x2Fef6792255c4A901D11d5a92Bb4…</td><td>&quot;&quot;</td><td>0.514805</td><td>&quot;$10.09&quot;</td></tr><tr><td>&quot;0x66c394c67b36df994bd9296c82bf…</td><td>&quot;Success&quot;</td><td>&quot;0xff040000&quot;</td><td>69258871</td><td>&quot;2025-03-19 23:57:47&quot;</td><td>&quot;0x5Af622aBce14E8438f665DDc99C6…</td><td>&quot;&quot;</td><td>&quot;0x424Bb8E613bD2B9dE3432e8423F1…</td><td>&quot;&quot;</td><td>0.112437</td><td>&quot;$2.20&quot;</td></tr><tr><td>&quot;0x23612fc7361e83d149a0613393dc…</td><td>&quot;Success&quot;</td><td>&quot;0x000000ab&quot;</td><td>69258781</td><td>&quot;2025-03-19 23:54:35&quot;</td><td>&quot;0x2Fef6792255c4A901D11d5a92Bb4…</td><td>&quot;&quot;</td><td>&quot;0x214b36Cc2Dc66424DA969FCa2494…</td><td>&quot;&quot;</td><td>0.278605</td><td>&quot;$5.46&quot;</td></tr><tr><td>&quot;0x23612fc7361e83d149a0613393dc…</td><td>&quot;Success&quot;</td><td>&quot;0x000000ab&quot;</td><td>69258781</td><td>&quot;2025-03-19 23:54:35&quot;</td><td>&quot;0xa18D1319b944a79d4bCC9F1D0B5D…</td><td>&quot;&quot;</td><td>&quot;0x2Fef6792255c4A901D11d5a92Bb4…</td><td>&quot;&quot;</td><td>0.278605</td><td>&quot;$5.46&quot;</td></tr><tr><td>&hellip;</td><td>&hellip;</td><td>&hellip;</td><td>&hellip;</td><td>&hellip;</td><td>&hellip;</td><td>&hellip;</td><td>&hellip;</td><td>&hellip;</td><td>&hellip;</td><td>&hellip;</td></tr><tr><td>&quot;0xba2749b144f6bcd0f8c4fda7b62e…</td><td>&quot;Success&quot;</td><td>&quot;Multicall&quot;</td><td>69258767</td><td>&quot;2025-03-19 23:54:05&quot;</td><td>&quot;0x424Bb8E613bD2B9dE3432e8423F1…</td><td>&quot;&quot;</td><td>&quot;0x1E191aD29BA045211739FE3BE845…</td><td>&quot;&quot;</td><td>0.165669</td><td>&quot;$3.25&quot;</td></tr><tr><td>&quot;0xba2749b144f6bcd0f8c4fda7b62e…</td><td>&quot;Success&quot;</td><td>&quot;Multicall&quot;</td><td>69258767</td><td>&quot;2025-03-19 23:54:05&quot;</td><td>&quot;0x6023a9820867e00A9a067B205bB9…</td><td>&quot;&quot;</td><td>&quot;0x1E191aD29BA045211739FE3BE845…</td><td>&quot;&quot;</td><td>0.165683</td><td>&quot;$3.25&quot;</td></tr><tr><td>&quot;0xba2749b144f6bcd0f8c4fda7b62e…</td><td>&quot;Success&quot;</td><td>&quot;Multicall&quot;</td><td>69258767</td><td>&quot;2025-03-19 23:54:05&quot;</td><td>&quot;0x6115D0776262110A20fBe190E59A…</td><td>&quot;&quot;</td><td>&quot;0x1E191aD29BA045211739FE3BE845…</td><td>&quot;&quot;</td><td>0.165669</td><td>&quot;$3.25&quot;</td></tr><tr><td>&quot;0xba2749b144f6bcd0f8c4fda7b62e…</td><td>&quot;Success&quot;</td><td>&quot;Multicall&quot;</td><td>69258767</td><td>&quot;2025-03-19 23:54:05&quot;</td><td>&quot;0x093aC14239BEbf9a973794760655…</td><td>&quot;&quot;</td><td>&quot;0x1E191aD29BA045211739FE3BE845…</td><td>&quot;&quot;</td><td>0.165669</td><td>&quot;$3.25&quot;</td></tr><tr><td>&quot;0xba2749b144f6bcd0f8c4fda7b62e…</td><td>&quot;Success&quot;</td><td>&quot;Multicall&quot;</td><td>69258767</td><td>&quot;2025-03-19 23:54:05&quot;</td><td>&quot;0x853e4442FA0afb0fe784818dcFAd…</td><td>&quot;&quot;</td><td>&quot;0x1E191aD29BA045211739FE3BE845…</td><td>&quot;&quot;</td><td>0.165668</td><td>&quot;$3.25&quot;</td></tr></tbody></table></div>"
      ],
      "text/plain": [
       "shape: (25, 11)\n",
       "┌─────────────┬─────────┬─────────────┬──────────┬───┬────────────┬────────────┬──────────┬────────┐\n",
       "│ Transaction ┆ Status  ┆ Method      ┆ BlockNo  ┆ … ┆ To         ┆ To_Nametag ┆ Amount   ┆ Value  │\n",
       "│ Hash        ┆ ---     ┆ ---         ┆ ---      ┆   ┆ ---        ┆ ---        ┆ ---      ┆ (USD)  │\n",
       "│ ---         ┆ str     ┆ str         ┆ i64      ┆   ┆ str        ┆ str        ┆ f64      ┆ ---    │\n",
       "│ str         ┆         ┆             ┆          ┆   ┆            ┆            ┆          ┆ str    │\n",
       "╞═════════════╪═════════╪═════════════╪══════════╪═══╪════════════╪════════════╪══════════╪════════╡\n",
       "│ 0xde14df2cf ┆ Success ┆ 0x000000ab  ┆ 69258893 ┆ … ┆ 0x214b36Cc ┆            ┆ 0.514805 ┆ $10.09 │\n",
       "│ 61003f6eba5 ┆         ┆             ┆          ┆   ┆ 2Dc66424DA ┆            ┆          ┆        │\n",
       "│ 4740dfdd…   ┆         ┆             ┆          ┆   ┆ 969FCa2494 ┆            ┆          ┆        │\n",
       "│             ┆         ┆             ┆          ┆   ┆ …          ┆            ┆          ┆        │\n",
       "│ 0xde14df2cf ┆ Success ┆ 0x000000ab  ┆ 69258893 ┆ … ┆ 0x2Fef6792 ┆            ┆ 0.514805 ┆ $10.09 │\n",
       "│ 61003f6eba5 ┆         ┆             ┆          ┆   ┆ 255c4A901D ┆            ┆          ┆        │\n",
       "│ 4740dfdd…   ┆         ┆             ┆          ┆   ┆ 11d5a92Bb4 ┆            ┆          ┆        │\n",
       "│             ┆         ┆             ┆          ┆   ┆ …          ┆            ┆          ┆        │\n",
       "│ 0x66c394c67 ┆ Success ┆ 0xff040000  ┆ 69258871 ┆ … ┆ 0x424Bb8E6 ┆            ┆ 0.112437 ┆ $2.20  │\n",
       "│ b36df994bd9 ┆         ┆             ┆          ┆   ┆ 13bD2B9dE3 ┆            ┆          ┆        │\n",
       "│ 296c82bf…   ┆         ┆             ┆          ┆   ┆ 432e8423F1 ┆            ┆          ┆        │\n",
       "│             ┆         ┆             ┆          ┆   ┆ …          ┆            ┆          ┆        │\n",
       "│ 0x23612fc73 ┆ Success ┆ 0x000000ab  ┆ 69258781 ┆ … ┆ 0x214b36Cc ┆            ┆ 0.278605 ┆ $5.46  │\n",
       "│ 61e83d149a0 ┆         ┆             ┆          ┆   ┆ 2Dc66424DA ┆            ┆          ┆        │\n",
       "│ 613393dc…   ┆         ┆             ┆          ┆   ┆ 969FCa2494 ┆            ┆          ┆        │\n",
       "│             ┆         ┆             ┆          ┆   ┆ …          ┆            ┆          ┆        │\n",
       "│ 0x23612fc73 ┆ Success ┆ 0x000000ab  ┆ 69258781 ┆ … ┆ 0x2Fef6792 ┆            ┆ 0.278605 ┆ $5.46  │\n",
       "│ 61e83d149a0 ┆         ┆             ┆          ┆   ┆ 255c4A901D ┆            ┆          ┆        │\n",
       "│ 613393dc…   ┆         ┆             ┆          ┆   ┆ 11d5a92Bb4 ┆            ┆          ┆        │\n",
       "│             ┆         ┆             ┆          ┆   ┆ …          ┆            ┆          ┆        │\n",
       "│ …           ┆ …       ┆ …           ┆ …        ┆ … ┆ …          ┆ …          ┆ …        ┆ …      │\n",
       "│ 0xba2749b14 ┆ Success ┆ Multicall   ┆ 69258767 ┆ … ┆ 0x1E191aD2 ┆            ┆ 0.165669 ┆ $3.25  │\n",
       "│ 4f6bcd0f8c4 ┆         ┆             ┆          ┆   ┆ 9BA0452117 ┆            ┆          ┆        │\n",
       "│ fda7b62e…   ┆         ┆             ┆          ┆   ┆ 39FE3BE845 ┆            ┆          ┆        │\n",
       "│             ┆         ┆             ┆          ┆   ┆ …          ┆            ┆          ┆        │\n",
       "│ 0xba2749b14 ┆ Success ┆ Multicall   ┆ 69258767 ┆ … ┆ 0x1E191aD2 ┆            ┆ 0.165683 ┆ $3.25  │\n",
       "│ 4f6bcd0f8c4 ┆         ┆             ┆          ┆   ┆ 9BA0452117 ┆            ┆          ┆        │\n",
       "│ fda7b62e…   ┆         ┆             ┆          ┆   ┆ 39FE3BE845 ┆            ┆          ┆        │\n",
       "│             ┆         ┆             ┆          ┆   ┆ …          ┆            ┆          ┆        │\n",
       "│ 0xba2749b14 ┆ Success ┆ Multicall   ┆ 69258767 ┆ … ┆ 0x1E191aD2 ┆            ┆ 0.165669 ┆ $3.25  │\n",
       "│ 4f6bcd0f8c4 ┆         ┆             ┆          ┆   ┆ 9BA0452117 ┆            ┆          ┆        │\n",
       "│ fda7b62e…   ┆         ┆             ┆          ┆   ┆ 39FE3BE845 ┆            ┆          ┆        │\n",
       "│             ┆         ┆             ┆          ┆   ┆ …          ┆            ┆          ┆        │\n",
       "│ 0xba2749b14 ┆ Success ┆ Multicall   ┆ 69258767 ┆ … ┆ 0x1E191aD2 ┆            ┆ 0.165669 ┆ $3.25  │\n",
       "│ 4f6bcd0f8c4 ┆         ┆             ┆          ┆   ┆ 9BA0452117 ┆            ┆          ┆        │\n",
       "│ fda7b62e…   ┆         ┆             ┆          ┆   ┆ 39FE3BE845 ┆            ┆          ┆        │\n",
       "│             ┆         ┆             ┆          ┆   ┆ …          ┆            ┆          ┆        │\n",
       "│ 0xba2749b14 ┆ Success ┆ Multicall   ┆ 69258767 ┆ … ┆ 0x1E191aD2 ┆            ┆ 0.165668 ┆ $3.25  │\n",
       "│ 4f6bcd0f8c4 ┆         ┆             ┆          ┆   ┆ 9BA0452117 ┆            ┆          ┆        │\n",
       "│ fda7b62e…   ┆         ┆             ┆          ┆   ┆ 39FE3BE845 ┆            ┆          ┆        │\n",
       "│             ┆         ┆             ┆          ┆   ┆ …          ┆            ┆          ┆        │\n",
       "└─────────────┴─────────┴─────────────┴──────────┴───┴────────────┴────────────┴──────────┴────────┘"
      ]
     },
     "execution_count": 2,
     "metadata": {},
     "output_type": "execute_result"
    }
   ],
   "source": [
    "df"
   ]
  },
  {
   "cell_type": "markdown",
   "metadata": {},
   "source": [
    "# Functions"
   ]
  },
  {
   "cell_type": "code",
   "execution_count": 10,
   "metadata": {},
   "outputs": [],
   "source": [
    "# Function to clean currency values (assuming you have this defined elsewhere)\n",
    "def clean_currency(value):\n",
    "    if isinstance(value, str):\n",
    "        # Remove currency symbols, commas, etc.\n",
    "        return value.replace('$', '').replace(',', '')\n",
    "    return value\n",
    "\n",
    "# Process each row in the DataFrame using Polars' row-wise operations\n",
    "def process_row(row):\n",
    "    from_addr = row['From']\n",
    "    to_addr = row['To']\n",
    "    \n",
    "    # Clean and convert Amount and Value to float\n",
    "    try:\n",
    "        amount = float(clean_currency(row['Amount'])) if row['Amount'] is not None else 0\n",
    "    except (ValueError, TypeError) as e:\n",
    "        print(f\"Warning: Could not convert Amount '{row['Amount']}' to float: {e}\")\n",
    "        amount = 0\n",
    "        \n",
    "    try:\n",
    "        value_usd = float(clean_currency(row['Value (USD)'])) if row['Value (USD)'] is not None else 0\n",
    "    except (ValueError, TypeError) as e:\n",
    "        print(f\"Warning: Could not convert Value '{row['Value (USD)']}' to float: {e}\")\n",
    "        value_usd = 0\n",
    "    \n",
    "    # Add nodes with attributes\n",
    "    if from_addr not in G:\n",
    "        G.add_node(from_addr, \n",
    "                  label=row['From'],\n",
    "                  total_sent=0,\n",
    "                  total_received=0,\n",
    "                  transaction_count_out=0,\n",
    "                  transaction_count_in=0)\n",
    "    \n",
    "    if to_addr not in G:\n",
    "        G.add_node(to_addr, \n",
    "                  label=row['To'],\n",
    "                  total_sent=0,\n",
    "                  total_received=0,\n",
    "                  transaction_count_out=0,\n",
    "                  transaction_count_in=0)\n",
    "    \n",
    "    # Update node metrics\n",
    "    G.nodes[from_addr]['total_sent'] += value_usd\n",
    "    G.nodes[from_addr]['transaction_count_out'] += 1\n",
    "    G.nodes[to_addr]['total_received'] += value_usd\n",
    "    G.nodes[to_addr]['transaction_count_in'] += 1\n",
    "    \n",
    "    # Add or update edge\n",
    "    if G.has_edge(from_addr, to_addr):\n",
    "        G[from_addr][to_addr]['weight'] += 1\n",
    "        G[from_addr][to_addr]['total_amount'] += amount\n",
    "        G[from_addr][to_addr]['total_value_usd'] += value_usd\n",
    "    else:\n",
    "        G.add_edge(from_addr, to_addr, \n",
    "                  weight=1, \n",
    "                  total_amount=amount,\n",
    "                  total_value_usd=value_usd)\n",
    "\n",
    "# Function to create arrow shapes\n",
    "def get_arrow(x0, y0, x1, y1, edge_weight, color='rgba(50,50,50,0.5)'):\n",
    "    # Calculate the direction vector\n",
    "    dx, dy = x1 - x0, y1 - y0\n",
    "    # Normalize\n",
    "    length = np.sqrt(dx**2 + dy**2)\n",
    "    if length == 0:\n",
    "        return None\n",
    "    dx, dy = dx/length, dy/length\n",
    "    \n",
    "    # Calculate position for arrowhead (80% along the edge)\n",
    "    ax, ay = x0 + dx * 0.8 * length, y0 + dy * 0.8 * length\n",
    "    \n",
    "    # Calculate perpendicular for arrow wings\n",
    "    width = 0.03 * (1 + edge_weight/5)\n",
    "    wx, wy = -dy * width, dx * width\n",
    "    \n",
    "    # Points for the arrowhead\n",
    "    arrow_points = [\n",
    "        [ax + wx - dx*width*2, ay + wy - dy*width*2],  # Left wing\n",
    "        [x1, y1],  # Tip\n",
    "        [ax - wx - dx*width*2, ay - wy - dy*width*2],  # Right wing\n",
    "    ]\n",
    "    \n",
    "    return go.Scatter(\n",
    "        x=[point[0] for point in arrow_points],\n",
    "        y=[point[1] for point in arrow_points],\n",
    "        fill=\"toself\",\n",
    "        fillcolor=color,\n",
    "        line=dict(color=color),\n",
    "        hoverinfo='none',\n",
    "        mode='lines')\n"
   ]
  },
  {
   "cell_type": "markdown",
   "metadata": {},
   "source": [
    "# Data Analysis"
   ]
  },
  {
   "cell_type": "code",
   "execution_count": 5,
   "metadata": {},
   "outputs": [],
   "source": [
    "# Create a directed graph\n",
    "G = nx.DiGraph()\n",
    "\n",
    "# Apply the function to each row in the Polars DataFrame\n",
    "for row in df.iter_rows(named=True):\n",
    "    process_row(row)\n",
    "    \n",
    "# Calculate network positions - use a layout that better shows directionality\n",
    "pos = nx.kamada_kawai_layout(G)\n",
    "\n",
    "# Identify the most active wallets in terms of outgoing transactions\n",
    "outgoing_counts = {node: G.nodes[node]['transaction_count_out'] for node in G.nodes()}\n",
    "top_origins = sorted(outgoing_counts.items(), key=lambda x: x[1], reverse=True)[:5]\n",
    "top_origin_nodes = [node for node, _ in top_origins]\n",
    "\n",
    "# Create node trace\n",
    "node_x = []\n",
    "node_y = []\n",
    "node_text = []\n",
    "node_size = []\n",
    "node_colors = []\n",
    "\n",
    "for node in G.nodes():\n",
    "    x, y = pos[node]\n",
    "    node_x.append(x)\n",
    "    node_y.append(y)\n",
    "    \n",
    "    # Node hover text - wallet info\n",
    "    in_count = G.nodes[node]['transaction_count_in']\n",
    "    out_count = G.nodes[node]['transaction_count_out']\n",
    "    received = G.nodes[node]['total_received']\n",
    "    sent = G.nodes[node]['total_sent']\n",
    "    \n",
    "    # Calculate importance metrics\n",
    "    activity_ratio = out_count / (in_count + 1) # Add 1 to avoid division by zero\n",
    "    \n",
    "    hover_text = f\"Address: {G.nodes[node]['label']}<br>\" + \\\n",
    "                f\"Transactions In: {in_count}<br>\" + \\\n",
    "                f\"Transactions Out: {out_count}<br>\" + \\\n",
    "                f\"Out/In Ratio: {activity_ratio:.2f}<br>\" + \\\n",
    "                f\"Total Received: ${received:.2f}<br>\" + \\\n",
    "                f\"Total Sent: ${sent:.2f}\"\n",
    "    node_text.append(hover_text)\n",
    "    \n",
    "    # Size nodes based on transaction volume (with emphasis on outgoing)\n",
    "    size = 10 + (in_count + out_count * 2)  # Double weight on outgoing to emphasize drivers\n",
    "    node_size.append(size)\n",
    "    \n",
    "    # Color nodes specially if they're top origin nodes\n",
    "    if node in top_origin_nodes:\n",
    "        node_colors.append('red')  # Highlight top origins in red\n",
    "    else:\n",
    "        # Color by outgoing/incoming ratio\n",
    "        ratio = out_count / max(in_count, 1)  # Avoid division by zero\n",
    "        # Blue for mostly receiving, green for balanced, yellow/red for mostly sending\n",
    "        if ratio < 0.5:\n",
    "            node_colors.append('rgba(0, 0, 255, 0.8)')  # Blue for receivers\n",
    "        elif ratio < 1.5:\n",
    "            node_colors.append('rgba(0, 255, 0, 0.8)')  # Green for balanced\n",
    "        else:\n",
    "            node_colors.append('rgba(255, 165, 0, 0.8)')  # Orange for senders\n",
    "\n",
    "node_trace = go.Scatter(\n",
    "    x=node_x, y=node_y,\n",
    "    mode='markers',\n",
    "    hoverinfo='text',\n",
    "    text=node_text,\n",
    "    marker=dict(\n",
    "        size=node_size,\n",
    "        color=node_colors,\n",
    "        line_width=2))\n",
    "\n",
    "# Create edge traces with arrows to show direction\n",
    "edge_traces = []\n",
    "\n",
    "# Create curved edge traces to better show directionality\n",
    "for edge in G.edges():\n",
    "    x0, y0 = pos[edge[0]]\n",
    "    x1, y1 = pos[edge[1]]\n",
    "    \n",
    "    edge_weight = G[edge[0]][edge[1]]['weight']\n",
    "    total_value = G[edge[0]][edge[1]]['total_value_usd']\n",
    "    total_amount = G[edge[0]][edge[1]]['total_amount']\n",
    "    \n",
    "    # Width based on transaction count\n",
    "    width = 1 + (edge_weight / 5)  # Scale edge width\n",
    "    \n",
    "    # Color based on source node being a top origin\n",
    "    if edge[0] in top_origin_nodes:\n",
    "        color = 'rgba(255, 0, 0, 0.5)'  # Red for edges from top origins\n",
    "    else:\n",
    "        color = 'rgba(50, 50, 50, 0.5)'  # Gray for normal edges\n",
    "    \n",
    "    # Create the main edge line\n",
    "    edge_trace = go.Scatter(\n",
    "        x=[x0, x1],\n",
    "        y=[y0, y1],\n",
    "        line=dict(width=width, color=color),\n",
    "        hoverinfo='text',\n",
    "        text=f\"From: {G.nodes[edge[0]]['label']}<br>\" + \\\n",
    "             f\"To: {G.nodes[edge[1]]['label']}<br>\" + \\\n",
    "             f\"Transactions: {edge_weight}<br>\" + \\\n",
    "             f\"Total Amount: {total_amount}<br>\" + \\\n",
    "             f\"Total Value: ${total_value:.2f}\",\n",
    "        mode='lines')\n",
    "    \n",
    "    edge_traces.append(edge_trace)\n",
    "    \n",
    "    # # Add arrowhead\n",
    "    # arrow = get_arrow(x0, y0, x1, y1, edge_weight, color)\n",
    "    # if arrow:\n",
    "    #     edge_traces.append(arrow)\n",
    "\n",
    "# Calculate centrality metrics to quantify importance\n",
    "betweenness_centrality = nx.betweenness_centrality(G)\n",
    "out_degree_centrality = nx.out_degree_centrality(G)\n",
    "\n",
    "# Identify key driver wallets\n",
    "driver_scores = {}\n",
    "for node in G.nodes():\n",
    "    # Composite score emphasizing outgoing activity\n",
    "    driver_scores[node] = (\n",
    "        G.nodes[node]['transaction_count_out'] * 0.5 +\n",
    "        G.nodes[node]['total_sent'] * 0.3 +\n",
    "        betweenness_centrality[node] * 100 +\n",
    "        out_degree_centrality[node] * 100\n",
    "    )"
   ]
  },
  {
   "cell_type": "code",
   "execution_count": 6,
   "metadata": {},
   "outputs": [],
   "source": [
    "# Create summary table data with additional metrics\n",
    "wallet_summary = []\n",
    "for node in G.nodes():\n",
    "    in_count = G.nodes[node]['transaction_count_in']\n",
    "    out_count = G.nodes[node]['transaction_count_out']\n",
    "    \n",
    "    wallet_summary.append({\n",
    "        'Address': G.nodes[node]['label'],\n",
    "        'TX Out': out_count,\n",
    "        'TX In': in_count,\n",
    "        'Out/In Ratio': round(out_count / max(in_count, 1), 2),\n",
    "        'Total TX': out_count + in_count,\n",
    "        'Total Sent ($)': round(G.nodes[node]['total_sent'], 2),\n",
    "        'Total Received ($)': round(G.nodes[node]['total_received'], 2),\n",
    "        'Driver Score': round(driver_scores[node], 2)\n",
    "    })\n",
    "\n",
    "# Convert list of dictionaries to Polars DataFrame\n",
    "wallet_df = pl.DataFrame(wallet_summary)\n",
    "# Sort by driver score to emphasize key wallets driving network activity\n",
    "wallet_df = wallet_df.sort(\"Driver Score\", descending=True).head(10)\n",
    "\n",
    "# Add a second table for network-wide statistics\n",
    "stats_df = pl.DataFrame([\n",
    "    {\"Metric\": \"Total Transactions\", \"Value\": df.height},\n",
    "    {\"Metric\": \"Total Unique Wallets\", \"Value\": len(G.nodes())},\n",
    "    {\"Metric\": \"Top Origin Wallet\", \"Value\": G.nodes[top_origin_nodes[0]]['label'] if top_origin_nodes else \"None\"},\n",
    "    {\"Metric\": \"Most Active Origin TX Count\", \"Value\": top_origins[0][1] if top_origins else 0},\n",
    "    {\"Metric\": \"Network Density\", \"Value\": round(nx.density(G), 4)},\n",
    "])"
   ]
  },
  {
   "cell_type": "code",
   "execution_count": 7,
   "metadata": {},
   "outputs": [
    {
     "data": {
      "text/html": [
       "<div><style>\n",
       ".dataframe > thead > tr,\n",
       ".dataframe > tbody > tr {\n",
       "  text-align: right;\n",
       "  white-space: pre-wrap;\n",
       "}\n",
       "</style>\n",
       "<small>shape: (10, 8)</small><table border=\"1\" class=\"dataframe\"><thead><tr><th>Address</th><th>TX Out</th><th>TX In</th><th>Out/In Ratio</th><th>Total TX</th><th>Total Sent ($)</th><th>Total Received ($)</th><th>Driver Score</th></tr><tr><td>str</td><td>i64</td><td>i64</td><td>f64</td><td>i64</td><td>f64</td><td>f64</td><td>f64</td></tr></thead><tbody><tr><td>&quot;0xa18D1319b944a79d4bCC9F1D0B5D…</td><td>3</td><td>0</td><td>3.0</td><td>3</td><td>18.79</td><td>0.0</td><td>17.14</td></tr><tr><td>&quot;0x5Af622aBce14E8438f665DDc99C6…</td><td>2</td><td>0</td><td>2.0</td><td>2</td><td>5.45</td><td>0.0</td><td>12.63</td></tr><tr><td>&quot;0x6023a9820867e00A9a067B205bB9…</td><td>2</td><td>0</td><td>2.0</td><td>2</td><td>4.55</td><td>0.0</td><td>12.37</td></tr><tr><td>&quot;0x2Fef6792255c4A901D11d5a92Bb4…</td><td>2</td><td>2</td><td>1.0</td><td>4</td><td>15.55</td><td>15.55</td><td>10.93</td></tr><tr><td>&quot;0x214b36Cc2Dc66424DA969FCa2494…</td><td>1</td><td>2</td><td>0.5</td><td>3</td><td>3.25</td><td>15.55</td><td>6.74</td></tr><tr><td>&quot;0x36f1959fbAB05CAAEEBC4f70a5d0…</td><td>1</td><td>1</td><td>1.0</td><td>2</td><td>3.19</td><td>1.3</td><td>6.72</td></tr><tr><td>&quot;0x424Bb8E613bD2B9dE3432e8423F1…</td><td>1</td><td>1</td><td>1.0</td><td>2</td><td>3.25</td><td>2.2</td><td>6.47</td></tr><tr><td>&quot;0x7B41801B47f8279C3A9fAe6Aa61E…</td><td>1</td><td>0</td><td>1.0</td><td>1</td><td>3.25</td><td>0.0</td><td>6.47</td></tr><tr><td>&quot;0xb89DaEC63973eEA96bB69979db77…</td><td>1</td><td>0</td><td>1.0</td><td>1</td><td>3.25</td><td>0.0</td><td>6.47</td></tr><tr><td>&quot;0x5e1606e1D69170b59bE14C105F72…</td><td>1</td><td>0</td><td>1.0</td><td>1</td><td>3.25</td><td>0.0</td><td>6.47</td></tr></tbody></table></div>"
      ],
      "text/plain": [
       "shape: (10, 8)\n",
       "┌───────────────┬────────┬───────┬────────┬──────────┬───────────────┬──────────────┬──────────────┐\n",
       "│ Address       ┆ TX Out ┆ TX In ┆ Out/In ┆ Total TX ┆ Total Sent    ┆ Total        ┆ Driver Score │\n",
       "│ ---           ┆ ---    ┆ ---   ┆ Ratio  ┆ ---      ┆ ($)           ┆ Received ($) ┆ ---          │\n",
       "│ str           ┆ i64    ┆ i64   ┆ ---    ┆ i64      ┆ ---           ┆ ---          ┆ f64          │\n",
       "│               ┆        ┆       ┆ f64    ┆          ┆ f64           ┆ f64          ┆              │\n",
       "╞═══════════════╪════════╪═══════╪════════╪══════════╪═══════════════╪══════════════╪══════════════╡\n",
       "│ 0xa18D1319b94 ┆ 3      ┆ 0     ┆ 3.0    ┆ 3        ┆ 18.79         ┆ 0.0          ┆ 17.14        │\n",
       "│ 4a79d4bCC9F1D ┆        ┆       ┆        ┆          ┆               ┆              ┆              │\n",
       "│ 0B5D…         ┆        ┆       ┆        ┆          ┆               ┆              ┆              │\n",
       "│ 0x5Af622aBce1 ┆ 2      ┆ 0     ┆ 2.0    ┆ 2        ┆ 5.45          ┆ 0.0          ┆ 12.63        │\n",
       "│ 4E8438f665DDc ┆        ┆       ┆        ┆          ┆               ┆              ┆              │\n",
       "│ 99C6…         ┆        ┆       ┆        ┆          ┆               ┆              ┆              │\n",
       "│ 0x6023a982086 ┆ 2      ┆ 0     ┆ 2.0    ┆ 2        ┆ 4.55          ┆ 0.0          ┆ 12.37        │\n",
       "│ 7e00A9a067B20 ┆        ┆       ┆        ┆          ┆               ┆              ┆              │\n",
       "│ 5bB9…         ┆        ┆       ┆        ┆          ┆               ┆              ┆              │\n",
       "│ 0x2Fef6792255 ┆ 2      ┆ 2     ┆ 1.0    ┆ 4        ┆ 15.55         ┆ 15.55        ┆ 10.93        │\n",
       "│ c4A901D11d5a9 ┆        ┆       ┆        ┆          ┆               ┆              ┆              │\n",
       "│ 2Bb4…         ┆        ┆       ┆        ┆          ┆               ┆              ┆              │\n",
       "│ 0x214b36Cc2Dc ┆ 1      ┆ 2     ┆ 0.5    ┆ 3        ┆ 3.25          ┆ 15.55        ┆ 6.74         │\n",
       "│ 66424DA969FCa ┆        ┆       ┆        ┆          ┆               ┆              ┆              │\n",
       "│ 2494…         ┆        ┆       ┆        ┆          ┆               ┆              ┆              │\n",
       "│ 0x36f1959fbAB ┆ 1      ┆ 1     ┆ 1.0    ┆ 2        ┆ 3.19          ┆ 1.3          ┆ 6.72         │\n",
       "│ 05CAAEEBC4f70 ┆        ┆       ┆        ┆          ┆               ┆              ┆              │\n",
       "│ a5d0…         ┆        ┆       ┆        ┆          ┆               ┆              ┆              │\n",
       "│ 0x424Bb8E613b ┆ 1      ┆ 1     ┆ 1.0    ┆ 2        ┆ 3.25          ┆ 2.2          ┆ 6.47         │\n",
       "│ D2B9dE3432e84 ┆        ┆       ┆        ┆          ┆               ┆              ┆              │\n",
       "│ 23F1…         ┆        ┆       ┆        ┆          ┆               ┆              ┆              │\n",
       "│ 0x7B41801B47f ┆ 1      ┆ 0     ┆ 1.0    ┆ 1        ┆ 3.25          ┆ 0.0          ┆ 6.47         │\n",
       "│ 8279C3A9fAe6A ┆        ┆       ┆        ┆          ┆               ┆              ┆              │\n",
       "│ a61E…         ┆        ┆       ┆        ┆          ┆               ┆              ┆              │\n",
       "│ 0xb89DaEC6397 ┆ 1      ┆ 0     ┆ 1.0    ┆ 1        ┆ 3.25          ┆ 0.0          ┆ 6.47         │\n",
       "│ 3eEA96bB69979 ┆        ┆       ┆        ┆          ┆               ┆              ┆              │\n",
       "│ db77…         ┆        ┆       ┆        ┆          ┆               ┆              ┆              │\n",
       "│ 0x5e1606e1D69 ┆ 1      ┆ 0     ┆ 1.0    ┆ 1        ┆ 3.25          ┆ 0.0          ┆ 6.47         │\n",
       "│ 170b59bE14C10 ┆        ┆       ┆        ┆          ┆               ┆              ┆              │\n",
       "│ 5F72…         ┆        ┆       ┆        ┆          ┆               ┆              ┆              │\n",
       "└───────────────┴────────┴───────┴────────┴──────────┴───────────────┴──────────────┴──────────────┘"
      ]
     },
     "execution_count": 7,
     "metadata": {},
     "output_type": "execute_result"
    }
   ],
   "source": [
    "wallet_df"
   ]
  },
  {
   "cell_type": "markdown",
   "metadata": {},
   "source": [
    "# Data Visualization"
   ]
  },
  {
   "cell_type": "code",
   "execution_count": 8,
   "metadata": {},
   "outputs": [
    {
     "data": {
      "application/vnd.plotly.v1+json": {
       "config": {
        "plotlyServerURL": "https://plot.ly",
        "responsive": true
       },
       "data": [
        {
         "hoverinfo": "text",
         "line": {
          "color": "#64748b",
          "width": 1.5
         },
         "mode": "lines",
         "opacity": 0.7,
         "showlegend": false,
         "text": "From: 0x2Fef6792255c4A901D11d5a92Bb45BD62efcB55C<br>To: 0x214b36Cc2Dc66424DA969FCa2494A356dfF6aF4E<br>Transactions: 2<br>Total Amount: 0.7934098007769568<br>Total Value: $15.55",
         "type": "scatter",
         "x": [
          1,
          0.06677315752402034
         ],
         "xaxis": "x",
         "y": [
          -0.08434446115293089,
          -0.4218644432467861
         ],
         "yaxis": "y"
        },
        {
         "hoverinfo": "text",
         "line": {
          "color": "#64748b",
          "width": 1.5
         },
         "mode": "lines",
         "opacity": 0.7,
         "showlegend": false,
         "text": "From: 0x214b36Cc2Dc66424DA969FCa2494A356dfF6aF4E<br>To: 0x1E191aD29BA045211739FE3BE845F3C6446eB308<br>Transactions: 1<br>Total Amount: 0.1656687618765913<br>Total Value: $3.25",
         "type": "scatter",
         "x": [
          0.06677315752402034,
          -0.04287113627564712
         ],
         "xaxis": "x",
         "y": [
          -0.4218644432467861,
          0.07162845175546109
         ],
         "yaxis": "y"
        },
        {
         "hoverinfo": "text",
         "line": {
          "color": "#64748b",
          "width": 1.5
         },
         "mode": "lines",
         "opacity": 0.7,
         "showlegend": false,
         "text": "From: 0xa18D1319b944a79d4bCC9F1D0B5D57dbB89521D0<br>To: 0x2Fef6792255c4A901D11d5a92Bb45BD62efcB55C<br>Transactions: 2<br>Total Amount: 0.7934098007769568<br>Total Value: $15.55",
         "type": "scatter",
         "x": [
          0.20571218888102344,
          1
         ],
         "xaxis": "x",
         "y": [
          0.5117277508863055,
          -0.08434446115293089
         ],
         "yaxis": "y"
        },
        {
         "hoverinfo": "text",
         "line": {
          "color": "#64748b",
          "width": 1.5
         },
         "mode": "lines",
         "opacity": 0.7,
         "showlegend": false,
         "text": "From: 0xa18D1319b944a79d4bCC9F1D0B5D57dbB89521D0<br>To: 0x1E191aD29BA045211739FE3BE845F3C6446eB308<br>Transactions: 1<br>Total Amount: 0.1656254052223518<br>Total Value: $3.24",
         "type": "scatter",
         "x": [
          0.20571218888102344,
          -0.04287113627564712
         ],
         "xaxis": "x",
         "y": [
          0.5117277508863055,
          0.07162845175546109
         ],
         "yaxis": "y"
        },
        {
         "hoverinfo": "text",
         "line": {
          "color": "#64748b",
          "width": 1.5
         },
         "mode": "lines",
         "opacity": 0.7,
         "showlegend": false,
         "text": "From: 0x5Af622aBce14E8438f665DDc99C6135E933B8E4E<br>To: 0x424Bb8E613bD2B9dE3432e8423F151454Fa4430a<br>Transactions: 1<br>Total Amount: 0.11243672207185457<br>Total Value: $2.20",
         "type": "scatter",
         "x": [
          0.3737875217939371,
          0.003669993003465243
         ],
         "xaxis": "x",
         "y": [
          0.25842184230689735,
          0.5257582904196116
         ],
         "yaxis": "y"
        },
        {
         "hoverinfo": "text",
         "line": {
          "color": "#64748b",
          "width": 1.5
         },
         "mode": "lines",
         "opacity": 0.7,
         "showlegend": false,
         "text": "From: 0x5Af622aBce14E8438f665DDc99C6135E933B8E4E<br>To: 0x1E191aD29BA045211739FE3BE845F3C6446eB308<br>Transactions: 1<br>Total Amount: 0.1656685000523857<br>Total Value: $3.25",
         "type": "scatter",
         "x": [
          0.3737875217939371,
          -0.04287113627564712
         ],
         "xaxis": "x",
         "y": [
          0.25842184230689735,
          0.07162845175546109
         ],
         "yaxis": "y"
        },
        {
         "hoverinfo": "text",
         "line": {
          "color": "#64748b",
          "width": 1.5
         },
         "mode": "lines",
         "opacity": 0.7,
         "showlegend": false,
         "text": "From: 0x424Bb8E613bD2B9dE3432e8423F151454Fa4430a<br>To: 0x1E191aD29BA045211739FE3BE845F3C6446eB308<br>Transactions: 1<br>Total Amount: 0.1656689763681416<br>Total Value: $3.25",
         "type": "scatter",
         "x": [
          0.003669993003465243,
          -0.04287113627564712
         ],
         "xaxis": "x",
         "y": [
          0.5257582904196116,
          0.07162845175546109
         ],
         "yaxis": "y"
        },
        {
         "hoverinfo": "text",
         "line": {
          "color": "#64748b",
          "width": 1.5
         },
         "mode": "lines",
         "opacity": 0.7,
         "showlegend": false,
         "text": "From: 0xb5123c95caDabfa26e4f748042c08d484029d8EB<br>To: 0x36f1959fbAB05CAAEEBC4f70a5d0871138B1e3a7<br>Transactions: 1<br>Total Amount: 0.06631138526739752<br>Total Value: $1.30",
         "type": "scatter",
         "x": [
          0.21086234705338044,
          -0.10056140799017445
         ],
         "xaxis": "x",
         "y": [
          0.468251846432953,
          0.6666788290796173
         ],
         "yaxis": "y"
        },
        {
         "hoverinfo": "text",
         "line": {
          "color": "#64748b",
          "width": 1.5
         },
         "mode": "lines",
         "opacity": 0.7,
         "showlegend": false,
         "text": "From: 0x36f1959fbAB05CAAEEBC4f70a5d0871138B1e3a7<br>To: 0x1E191aD29BA045211739FE3BE845F3C6446eB308<br>Transactions: 1<br>Total Amount: 0.16288861349914935<br>Total Value: $3.19",
         "type": "scatter",
         "x": [
          -0.10056140799017445,
          -0.04287113627564712
         ],
         "xaxis": "x",
         "y": [
          0.6666788290796173,
          0.07162845175546109
         ],
         "yaxis": "y"
        },
        {
         "hoverinfo": "text",
         "line": {
          "color": "#64748b",
          "width": 1.5
         },
         "mode": "lines",
         "opacity": 0.7,
         "showlegend": false,
         "text": "From: 0x6023a9820867e00A9a067B205bB990BA9117A3C6<br>To: 0xb5123c95caDabfa26e4f748042c08d484029d8EB<br>Transactions: 1<br>Total Amount: 0.06631138526739752<br>Total Value: $1.30",
         "type": "scatter",
         "x": [
          -0.3533911620818448,
          0.21086234705338044
         ],
         "xaxis": "x",
         "y": [
          0.2719636163744855,
          0.468251846432953
         ],
         "yaxis": "y"
        },
        {
         "hoverinfo": "text",
         "line": {
          "color": "#64748b",
          "width": 1.5
         },
         "mode": "lines",
         "opacity": 0.7,
         "showlegend": false,
         "text": "From: 0x6023a9820867e00A9a067B205bB990BA9117A3C6<br>To: 0x1E191aD29BA045211739FE3BE845F3C6446eB308<br>Transactions: 1<br>Total Amount: 0.16568325071949666<br>Total Value: $3.25",
         "type": "scatter",
         "x": [
          -0.3533911620818448,
          -0.04287113627564712
         ],
         "xaxis": "x",
         "y": [
          0.2719636163744855,
          0.07162845175546109
         ],
         "yaxis": "y"
        },
        {
         "hoverinfo": "text",
         "line": {
          "color": "#64748b",
          "width": 1.5
         },
         "mode": "lines",
         "opacity": 0.7,
         "showlegend": false,
         "text": "From: 0x7B41801B47f8279C3A9fAe6Aa61E8aE141D90608<br>To: 0x1E191aD29BA045211739FE3BE845F3C6446eB308<br>Transactions: 1<br>Total Amount: 0.16573254973523152<br>Total Value: $3.25",
         "type": "scatter",
         "x": [
          -0.355607534002577,
          -0.04287113627564712
         ],
         "xaxis": "x",
         "y": [
          0.4041475758867607,
          0.07162845175546109
         ],
         "yaxis": "y"
        },
        {
         "hoverinfo": "text",
         "line": {
          "color": "#64748b",
          "width": 1.5
         },
         "mode": "lines",
         "opacity": 0.7,
         "showlegend": false,
         "text": "From: 0xfF5527923930831783B659F24498BB76ff6457DC<br>To: 0x1E191aD29BA045211739FE3BE845F3C6446eB308<br>Transactions: 1<br>Total Amount: 0.164012044828065<br>Total Value: $3.21",
         "type": "scatter",
         "x": [
          -0.49577481016392627,
          -0.04287113627564712
         ],
         "xaxis": "x",
         "y": [
          0.014382046982936325,
          0.07162845175546109
         ],
         "yaxis": "y"
        },
        {
         "hoverinfo": "text",
         "line": {
          "color": "#64748b",
          "width": 1.5
         },
         "mode": "lines",
         "opacity": 0.7,
         "showlegend": false,
         "text": "From: 0xb89DaEC63973eEA96bB69979db772B028F0E5d1E<br>To: 0x1E191aD29BA045211739FE3BE845F3C6446eB308<br>Transactions: 1<br>Total Amount: 0.1656684255937559<br>Total Value: $3.25",
         "type": "scatter",
         "x": [
          -0.4655620441298995,
          -0.04287113627564712
         ],
         "xaxis": "x",
         "y": [
          -0.10086659611414563,
          0.07162845175546109
         ],
         "yaxis": "y"
        },
        {
         "hoverinfo": "text",
         "line": {
          "color": "#64748b",
          "width": 1.5
         },
         "mode": "lines",
         "opacity": 0.7,
         "showlegend": false,
         "text": "From: 0x5e1606e1D69170b59bE14C105F728A111bae96Ea<br>To: 0x1E191aD29BA045211739FE3BE845F3C6446eB308<br>Transactions: 1<br>Total Amount: 0.1656687132125811<br>Total Value: $3.25",
         "type": "scatter",
         "x": [
          -0.40745074759719413,
          -0.04287113627564712
         ],
         "xaxis": "x",
         "y": [
          -0.20318898451343415,
          0.07162845175546109
         ],
         "yaxis": "y"
        },
        {
         "hoverinfo": "text",
         "line": {
          "color": "#64748b",
          "width": 1.5
         },
         "mode": "lines",
         "opacity": 0.7,
         "showlegend": false,
         "text": "From: 0xD29C2df656B2E4AE6B6817CCC2EBE932FC6A950B<br>To: 0x1E191aD29BA045211739FE3BE845F3C6446eB308<br>Transactions: 1<br>Total Amount: 0.1656681345270196<br>Total Value: $3.25",
         "type": "scatter",
         "x": [
          -0.3257409445118847,
          -0.04287113627564712
         ],
         "xaxis": "x",
         "y": [
          -0.2867638454708384,
          0.07162845175546109
         ],
         "yaxis": "y"
        },
        {
         "hoverinfo": "text",
         "line": {
          "color": "#64748b",
          "width": 1.5
         },
         "mode": "lines",
         "opacity": 0.7,
         "showlegend": false,
         "text": "From: 0x4761406f3fbd79Dfd58951a87f6cea75a79E6434<br>To: 0x1E191aD29BA045211739FE3BE845F3C6446eB308<br>Transactions: 1<br>Total Amount: 0.1656692407786124<br>Total Value: $3.25",
         "type": "scatter",
         "x": [
          -0.2258320155161235,
          -0.04287113627564712
         ],
         "xaxis": "x",
         "y": [
          -0.34670057062503307,
          0.07162845175546109
         ],
         "yaxis": "y"
        },
        {
         "hoverinfo": "text",
         "line": {
          "color": "#64748b",
          "width": 1.5
         },
         "mode": "lines",
         "opacity": 0.7,
         "showlegend": false,
         "text": "From: 0xe23dFB0dC260ee2b0D14c7E2A12901206b0Cc1BE<br>To: 0x1E191aD29BA045211739FE3BE845F3C6446eB308<br>Transactions: 1<br>Total Amount: 0.16566907024303923<br>Total Value: $3.25",
         "type": "scatter",
         "x": [
          -0.11408854076940636,
          -0.04287113627564712
         ],
         "xaxis": "x",
         "y": [
          -0.3793826789966921,
          0.07162845175546109
         ],
         "yaxis": "y"
        },
        {
         "hoverinfo": "text",
         "line": {
          "color": "#64748b",
          "width": 1.5
         },
         "mode": "lines",
         "opacity": 0.7,
         "showlegend": false,
         "text": "From: 0xA39ad44725E428Df55A56d82ecAEB2EC57B903E1<br>To: 0x1E191aD29BA045211739FE3BE845F3C6446eB308<br>Transactions: 1<br>Total Amount: 0.16566859953415075<br>Total Value: $3.25",
         "type": "scatter",
         "x": [
          0.002518515990712303,
          -0.04287113627564712
         ],
         "xaxis": "x",
         "y": [
          -0.38271410925916266,
          0.07162845175546109
         ],
         "yaxis": "y"
        },
        {
         "hoverinfo": "text",
         "line": {
          "color": "#64748b",
          "width": 1.5
         },
         "mode": "lines",
         "opacity": 0.7,
         "showlegend": false,
         "text": "From: 0x42D07bb6c76be95343c19d8d87ef601C304eBf5B<br>To: 0x1E191aD29BA045211739FE3BE845F3C6446eB308<br>Transactions: 1<br>Total Amount: 0.16566967922169817<br>Total Value: $3.25",
         "type": "scatter",
         "x": [
          0.11686663502464738,
          -0.04287113627564712
         ],
         "xaxis": "x",
         "y": [
          -0.35612368326115124,
          0.07162845175546109
         ],
         "yaxis": "y"
        },
        {
         "hoverinfo": "text",
         "line": {
          "color": "#64748b",
          "width": 1.5
         },
         "mode": "lines",
         "opacity": 0.7,
         "showlegend": false,
         "text": "From: 0x6115D0776262110A20fBe190E59A102302791C38<br>To: 0x1E191aD29BA045211739FE3BE845F3C6446eB308<br>Transactions: 1<br>Total Amount: 0.16566898956195858<br>Total Value: $3.25",
         "type": "scatter",
         "x": [
          0.22166962782005922,
          -0.04287113627564712
         ],
         "xaxis": "x",
         "y": [
          -0.30053200717371437,
          0.07162845175546109
         ],
         "yaxis": "y"
        },
        {
         "hoverinfo": "text",
         "line": {
          "color": "#64748b",
          "width": 1.5
         },
         "mode": "lines",
         "opacity": 0.7,
         "showlegend": false,
         "text": "From: 0x093aC14239BEbf9a973794760655a36629A70664<br>To: 0x1E191aD29BA045211739FE3BE845F3C6446eB308<br>Transactions: 1<br>Total Amount: 0.1656691269210181<br>Total Value: $3.25",
         "type": "scatter",
         "x": [
          0.31002631938139896,
          -0.04287113627564712
         ],
         "xaxis": "x",
         "y": [
          -0.21809962451019257,
          0.07162845175546109
         ],
         "yaxis": "y"
        },
        {
         "hoverinfo": "text",
         "line": {
          "color": "#64748b",
          "width": 1.5
         },
         "mode": "lines",
         "opacity": 0.7,
         "showlegend": false,
         "text": "From: 0x853e4442FA0afb0fe784818dcFAdD5D753bc00E9<br>To: 0x1E191aD29BA045211739FE3BE845F3C6446eB308<br>Transactions: 1<br>Total Amount: 0.16566835903555577<br>Total Value: $3.25",
         "type": "scatter",
         "x": [
          0.37499403656603314,
          -0.04287113627564712
         ],
         "xaxis": "x",
         "y": [
          -0.11237924580094723,
          0.07162845175546109
         ],
         "yaxis": "y"
        },
        {
         "hoverinfo": "text",
         "marker": {
          "color": [
           "#ff6b6b",
           "#ff6b6b",
           "#ff6b6b",
           "#ff6b6b",
           "#06d6a0",
           "#06d6a0",
           "#06d6a0",
           "#ff6b6b",
           "#06d6a0",
           "#118ab2",
           "#06d6a0",
           "#06d6a0",
           "#06d6a0",
           "#06d6a0",
           "#06d6a0",
           "#06d6a0",
           "#06d6a0",
           "#06d6a0",
           "#06d6a0",
           "#06d6a0",
           "#06d6a0"
          ],
          "line": {
           "color": "rgba(250,250,250,0.3)",
           "width": 1
          },
          "size": [
           27.319281456251936,
           18.761774307976278,
           40,
           30.805275135671355,
           18.224309972573963,
           17.56699109037693,
           18.725011747434756,
           30.25383672754858,
           18.224309972573963,
           5,
           18.199801598879617,
           18.224309972573963,
           18.224309972573963,
           18.224309972573963,
           18.224309972573963,
           18.224309972573963,
           18.224309972573963,
           18.224309972573963,
           18.224309972573963,
           18.224309972573963,
           18.224309972573963
          ]
         },
         "mode": "markers",
         "showlegend": false,
         "text": [
          "Address: 0x2Fef6792255c4A901D11d5a92Bb45BD62efcB55C<br>TX Out: 2<br>TX In: 2<br>Total Sent: $15.55<br>Total Received: $15.55<br>Driver Score: 10.93",
          "Address: 0x214b36Cc2Dc66424DA969FCa2494A356dfF6aF4E<br>TX Out: 1<br>TX In: 2<br>Total Sent: $3.25<br>Total Received: $15.55<br>Driver Score: 6.74",
          "Address: 0xa18D1319b944a79d4bCC9F1D0B5D57dbB89521D0<br>TX Out: 3<br>TX In: 0<br>Total Sent: $18.79<br>Total Received: $0.00<br>Driver Score: 17.14",
          "Address: 0x5Af622aBce14E8438f665DDc99C6135E933B8E4E<br>TX Out: 2<br>TX In: 0<br>Total Sent: $5.45<br>Total Received: $0.00<br>Driver Score: 12.63",
          "Address: 0x424Bb8E613bD2B9dE3432e8423F151454Fa4430a<br>TX Out: 1<br>TX In: 1<br>Total Sent: $3.25<br>Total Received: $2.20<br>Driver Score: 6.47",
          "Address: 0xb5123c95caDabfa26e4f748042c08d484029d8EB<br>TX Out: 1<br>TX In: 1<br>Total Sent: $1.30<br>Total Received: $1.30<br>Driver Score: 6.15",
          "Address: 0x36f1959fbAB05CAAEEBC4f70a5d0871138B1e3a7<br>TX Out: 1<br>TX In: 1<br>Total Sent: $3.19<br>Total Received: $1.30<br>Driver Score: 6.72",
          "Address: 0x6023a9820867e00A9a067B205bB990BA9117A3C6<br>TX Out: 2<br>TX In: 0<br>Total Sent: $4.55<br>Total Received: $0.00<br>Driver Score: 12.37",
          "Address: 0x7B41801B47f8279C3A9fAe6Aa61E8aE141D90608<br>TX Out: 1<br>TX In: 0<br>Total Sent: $3.25<br>Total Received: $0.00<br>Driver Score: 6.47",
          "Address: 0x1E191aD29BA045211739FE3BE845F3C6446eB308<br>TX Out: 0<br>TX In: 18<br>Total Sent: $0.00<br>Total Received: $58.39<br>Driver Score: 0.00",
          "Address: 0xfF5527923930831783B659F24498BB76ff6457DC<br>TX Out: 1<br>TX In: 0<br>Total Sent: $3.21<br>Total Received: $0.00<br>Driver Score: 6.46",
          "Address: 0xb89DaEC63973eEA96bB69979db772B028F0E5d1E<br>TX Out: 1<br>TX In: 0<br>Total Sent: $3.25<br>Total Received: $0.00<br>Driver Score: 6.47",
          "Address: 0x5e1606e1D69170b59bE14C105F728A111bae96Ea<br>TX Out: 1<br>TX In: 0<br>Total Sent: $3.25<br>Total Received: $0.00<br>Driver Score: 6.47",
          "Address: 0xD29C2df656B2E4AE6B6817CCC2EBE932FC6A950B<br>TX Out: 1<br>TX In: 0<br>Total Sent: $3.25<br>Total Received: $0.00<br>Driver Score: 6.47",
          "Address: 0x4761406f3fbd79Dfd58951a87f6cea75a79E6434<br>TX Out: 1<br>TX In: 0<br>Total Sent: $3.25<br>Total Received: $0.00<br>Driver Score: 6.47",
          "Address: 0xe23dFB0dC260ee2b0D14c7E2A12901206b0Cc1BE<br>TX Out: 1<br>TX In: 0<br>Total Sent: $3.25<br>Total Received: $0.00<br>Driver Score: 6.47",
          "Address: 0xA39ad44725E428Df55A56d82ecAEB2EC57B903E1<br>TX Out: 1<br>TX In: 0<br>Total Sent: $3.25<br>Total Received: $0.00<br>Driver Score: 6.47",
          "Address: 0x42D07bb6c76be95343c19d8d87ef601C304eBf5B<br>TX Out: 1<br>TX In: 0<br>Total Sent: $3.25<br>Total Received: $0.00<br>Driver Score: 6.47",
          "Address: 0x6115D0776262110A20fBe190E59A102302791C38<br>TX Out: 1<br>TX In: 0<br>Total Sent: $3.25<br>Total Received: $0.00<br>Driver Score: 6.47",
          "Address: 0x093aC14239BEbf9a973794760655a36629A70664<br>TX Out: 1<br>TX In: 0<br>Total Sent: $3.25<br>Total Received: $0.00<br>Driver Score: 6.47",
          "Address: 0x853e4442FA0afb0fe784818dcFAdD5D753bc00E9<br>TX Out: 1<br>TX In: 0<br>Total Sent: $3.25<br>Total Received: $0.00<br>Driver Score: 6.47"
         ],
         "type": "scatter",
         "visible": true,
         "x": [
          1,
          0.06677315752402034,
          0.20571218888102344,
          0.3737875217939371,
          0.003669993003465243,
          0.21086234705338044,
          -0.10056140799017445,
          -0.3533911620818448,
          -0.355607534002577,
          -0.04287113627564712,
          -0.49577481016392627,
          -0.4655620441298995,
          -0.40745074759719413,
          -0.3257409445118847,
          -0.2258320155161235,
          -0.11408854076940636,
          0.002518515990712303,
          0.11686663502464738,
          0.22166962782005922,
          0.31002631938139896,
          0.37499403656603314
         ],
         "xaxis": "x",
         "y": [
          -0.08434446115293089,
          -0.4218644432467861,
          0.5117277508863055,
          0.25842184230689735,
          0.5257582904196116,
          0.468251846432953,
          0.6666788290796173,
          0.2719636163744855,
          0.4041475758867607,
          0.07162845175546109,
          0.014382046982936325,
          -0.10086659611414563,
          -0.20318898451343415,
          -0.2867638454708384,
          -0.34670057062503307,
          -0.3793826789966921,
          -0.38271410925916266,
          -0.35612368326115124,
          -0.30053200717371437,
          -0.21809962451019257,
          -0.11237924580094723
         ],
         "yaxis": "y"
        },
        {
         "hoverinfo": "text",
         "marker": {
          "color": [
           "#ff6b6b",
           "#ff6b6b",
           "#ff6b6b",
           "#ff6b6b",
           "#06d6a0",
           "#06d6a0",
           "#06d6a0",
           "#ff6b6b",
           "#06d6a0",
           "#118ab2",
           "#06d6a0",
           "#06d6a0",
           "#06d6a0",
           "#06d6a0",
           "#06d6a0",
           "#06d6a0",
           "#06d6a0",
           "#06d6a0",
           "#06d6a0",
           "#06d6a0",
           "#06d6a0"
          ],
          "line": {
           "color": "rgba(250,250,250,0.3)",
           "width": 1
          },
          "size": [
           28.333333333333332,
           16.666666666666664,
           40,
           28.333333333333332,
           16.666666666666664,
           16.666666666666664,
           16.666666666666664,
           28.333333333333332,
           16.666666666666664,
           5,
           16.666666666666664,
           16.666666666666664,
           16.666666666666664,
           16.666666666666664,
           16.666666666666664,
           16.666666666666664,
           16.666666666666664,
           16.666666666666664,
           16.666666666666664,
           16.666666666666664,
           16.666666666666664
          ]
         },
         "mode": "markers",
         "showlegend": false,
         "text": [
          "Address: 0x2Fef6792255c4A901D11d5a92Bb45BD62efcB55C<br>TX Out: 2<br>TX In: 2<br>Total Sent: $15.55<br>Total Received: $15.55<br>Driver Score: 10.93",
          "Address: 0x214b36Cc2Dc66424DA969FCa2494A356dfF6aF4E<br>TX Out: 1<br>TX In: 2<br>Total Sent: $3.25<br>Total Received: $15.55<br>Driver Score: 6.74",
          "Address: 0xa18D1319b944a79d4bCC9F1D0B5D57dbB89521D0<br>TX Out: 3<br>TX In: 0<br>Total Sent: $18.79<br>Total Received: $0.00<br>Driver Score: 17.14",
          "Address: 0x5Af622aBce14E8438f665DDc99C6135E933B8E4E<br>TX Out: 2<br>TX In: 0<br>Total Sent: $5.45<br>Total Received: $0.00<br>Driver Score: 12.63",
          "Address: 0x424Bb8E613bD2B9dE3432e8423F151454Fa4430a<br>TX Out: 1<br>TX In: 1<br>Total Sent: $3.25<br>Total Received: $2.20<br>Driver Score: 6.47",
          "Address: 0xb5123c95caDabfa26e4f748042c08d484029d8EB<br>TX Out: 1<br>TX In: 1<br>Total Sent: $1.30<br>Total Received: $1.30<br>Driver Score: 6.15",
          "Address: 0x36f1959fbAB05CAAEEBC4f70a5d0871138B1e3a7<br>TX Out: 1<br>TX In: 1<br>Total Sent: $3.19<br>Total Received: $1.30<br>Driver Score: 6.72",
          "Address: 0x6023a9820867e00A9a067B205bB990BA9117A3C6<br>TX Out: 2<br>TX In: 0<br>Total Sent: $4.55<br>Total Received: $0.00<br>Driver Score: 12.37",
          "Address: 0x7B41801B47f8279C3A9fAe6Aa61E8aE141D90608<br>TX Out: 1<br>TX In: 0<br>Total Sent: $3.25<br>Total Received: $0.00<br>Driver Score: 6.47",
          "Address: 0x1E191aD29BA045211739FE3BE845F3C6446eB308<br>TX Out: 0<br>TX In: 18<br>Total Sent: $0.00<br>Total Received: $58.39<br>Driver Score: 0.00",
          "Address: 0xfF5527923930831783B659F24498BB76ff6457DC<br>TX Out: 1<br>TX In: 0<br>Total Sent: $3.21<br>Total Received: $0.00<br>Driver Score: 6.46",
          "Address: 0xb89DaEC63973eEA96bB69979db772B028F0E5d1E<br>TX Out: 1<br>TX In: 0<br>Total Sent: $3.25<br>Total Received: $0.00<br>Driver Score: 6.47",
          "Address: 0x5e1606e1D69170b59bE14C105F728A111bae96Ea<br>TX Out: 1<br>TX In: 0<br>Total Sent: $3.25<br>Total Received: $0.00<br>Driver Score: 6.47",
          "Address: 0xD29C2df656B2E4AE6B6817CCC2EBE932FC6A950B<br>TX Out: 1<br>TX In: 0<br>Total Sent: $3.25<br>Total Received: $0.00<br>Driver Score: 6.47",
          "Address: 0x4761406f3fbd79Dfd58951a87f6cea75a79E6434<br>TX Out: 1<br>TX In: 0<br>Total Sent: $3.25<br>Total Received: $0.00<br>Driver Score: 6.47",
          "Address: 0xe23dFB0dC260ee2b0D14c7E2A12901206b0Cc1BE<br>TX Out: 1<br>TX In: 0<br>Total Sent: $3.25<br>Total Received: $0.00<br>Driver Score: 6.47",
          "Address: 0xA39ad44725E428Df55A56d82ecAEB2EC57B903E1<br>TX Out: 1<br>TX In: 0<br>Total Sent: $3.25<br>Total Received: $0.00<br>Driver Score: 6.47",
          "Address: 0x42D07bb6c76be95343c19d8d87ef601C304eBf5B<br>TX Out: 1<br>TX In: 0<br>Total Sent: $3.25<br>Total Received: $0.00<br>Driver Score: 6.47",
          "Address: 0x6115D0776262110A20fBe190E59A102302791C38<br>TX Out: 1<br>TX In: 0<br>Total Sent: $3.25<br>Total Received: $0.00<br>Driver Score: 6.47",
          "Address: 0x093aC14239BEbf9a973794760655a36629A70664<br>TX Out: 1<br>TX In: 0<br>Total Sent: $3.25<br>Total Received: $0.00<br>Driver Score: 6.47",
          "Address: 0x853e4442FA0afb0fe784818dcFAdD5D753bc00E9<br>TX Out: 1<br>TX In: 0<br>Total Sent: $3.25<br>Total Received: $0.00<br>Driver Score: 6.47"
         ],
         "type": "scatter",
         "visible": false,
         "x": [
          1,
          0.06677315752402034,
          0.20571218888102344,
          0.3737875217939371,
          0.003669993003465243,
          0.21086234705338044,
          -0.10056140799017445,
          -0.3533911620818448,
          -0.355607534002577,
          -0.04287113627564712,
          -0.49577481016392627,
          -0.4655620441298995,
          -0.40745074759719413,
          -0.3257409445118847,
          -0.2258320155161235,
          -0.11408854076940636,
          0.002518515990712303,
          0.11686663502464738,
          0.22166962782005922,
          0.31002631938139896,
          0.37499403656603314
         ],
         "xaxis": "x",
         "y": [
          -0.08434446115293089,
          -0.4218644432467861,
          0.5117277508863055,
          0.25842184230689735,
          0.5257582904196116,
          0.468251846432953,
          0.6666788290796173,
          0.2719636163744855,
          0.4041475758867607,
          0.07162845175546109,
          0.014382046982936325,
          -0.10086659611414563,
          -0.20318898451343415,
          -0.2867638454708384,
          -0.34670057062503307,
          -0.3793826789966921,
          -0.38271410925916266,
          -0.35612368326115124,
          -0.30053200717371437,
          -0.21809962451019257,
          -0.11237924580094723
         ],
         "yaxis": "y"
        },
        {
         "hoverinfo": "text",
         "marker": {
          "color": [
           "#ff6b6b",
           "#ff6b6b",
           "#ff6b6b",
           "#ff6b6b",
           "#06d6a0",
           "#06d6a0",
           "#06d6a0",
           "#ff6b6b",
           "#06d6a0",
           "#118ab2",
           "#06d6a0",
           "#06d6a0",
           "#06d6a0",
           "#06d6a0",
           "#06d6a0",
           "#06d6a0",
           "#06d6a0",
           "#06d6a0",
           "#06d6a0",
           "#06d6a0",
           "#06d6a0"
          ],
          "line": {
           "color": "rgba(250,250,250,0.3)",
           "width": 1
          },
          "size": [
           8.88888888888889,
           8.88888888888889,
           5,
           5,
           6.944444444444445,
           6.944444444444445,
           6.944444444444445,
           5,
           5,
           40,
           5,
           5,
           5,
           5,
           5,
           5,
           5,
           5,
           5,
           5,
           5
          ]
         },
         "mode": "markers",
         "showlegend": false,
         "text": [
          "Address: 0x2Fef6792255c4A901D11d5a92Bb45BD62efcB55C<br>TX Out: 2<br>TX In: 2<br>Total Sent: $15.55<br>Total Received: $15.55<br>Driver Score: 10.93",
          "Address: 0x214b36Cc2Dc66424DA969FCa2494A356dfF6aF4E<br>TX Out: 1<br>TX In: 2<br>Total Sent: $3.25<br>Total Received: $15.55<br>Driver Score: 6.74",
          "Address: 0xa18D1319b944a79d4bCC9F1D0B5D57dbB89521D0<br>TX Out: 3<br>TX In: 0<br>Total Sent: $18.79<br>Total Received: $0.00<br>Driver Score: 17.14",
          "Address: 0x5Af622aBce14E8438f665DDc99C6135E933B8E4E<br>TX Out: 2<br>TX In: 0<br>Total Sent: $5.45<br>Total Received: $0.00<br>Driver Score: 12.63",
          "Address: 0x424Bb8E613bD2B9dE3432e8423F151454Fa4430a<br>TX Out: 1<br>TX In: 1<br>Total Sent: $3.25<br>Total Received: $2.20<br>Driver Score: 6.47",
          "Address: 0xb5123c95caDabfa26e4f748042c08d484029d8EB<br>TX Out: 1<br>TX In: 1<br>Total Sent: $1.30<br>Total Received: $1.30<br>Driver Score: 6.15",
          "Address: 0x36f1959fbAB05CAAEEBC4f70a5d0871138B1e3a7<br>TX Out: 1<br>TX In: 1<br>Total Sent: $3.19<br>Total Received: $1.30<br>Driver Score: 6.72",
          "Address: 0x6023a9820867e00A9a067B205bB990BA9117A3C6<br>TX Out: 2<br>TX In: 0<br>Total Sent: $4.55<br>Total Received: $0.00<br>Driver Score: 12.37",
          "Address: 0x7B41801B47f8279C3A9fAe6Aa61E8aE141D90608<br>TX Out: 1<br>TX In: 0<br>Total Sent: $3.25<br>Total Received: $0.00<br>Driver Score: 6.47",
          "Address: 0x1E191aD29BA045211739FE3BE845F3C6446eB308<br>TX Out: 0<br>TX In: 18<br>Total Sent: $0.00<br>Total Received: $58.39<br>Driver Score: 0.00",
          "Address: 0xfF5527923930831783B659F24498BB76ff6457DC<br>TX Out: 1<br>TX In: 0<br>Total Sent: $3.21<br>Total Received: $0.00<br>Driver Score: 6.46",
          "Address: 0xb89DaEC63973eEA96bB69979db772B028F0E5d1E<br>TX Out: 1<br>TX In: 0<br>Total Sent: $3.25<br>Total Received: $0.00<br>Driver Score: 6.47",
          "Address: 0x5e1606e1D69170b59bE14C105F728A111bae96Ea<br>TX Out: 1<br>TX In: 0<br>Total Sent: $3.25<br>Total Received: $0.00<br>Driver Score: 6.47",
          "Address: 0xD29C2df656B2E4AE6B6817CCC2EBE932FC6A950B<br>TX Out: 1<br>TX In: 0<br>Total Sent: $3.25<br>Total Received: $0.00<br>Driver Score: 6.47",
          "Address: 0x4761406f3fbd79Dfd58951a87f6cea75a79E6434<br>TX Out: 1<br>TX In: 0<br>Total Sent: $3.25<br>Total Received: $0.00<br>Driver Score: 6.47",
          "Address: 0xe23dFB0dC260ee2b0D14c7E2A12901206b0Cc1BE<br>TX Out: 1<br>TX In: 0<br>Total Sent: $3.25<br>Total Received: $0.00<br>Driver Score: 6.47",
          "Address: 0xA39ad44725E428Df55A56d82ecAEB2EC57B903E1<br>TX Out: 1<br>TX In: 0<br>Total Sent: $3.25<br>Total Received: $0.00<br>Driver Score: 6.47",
          "Address: 0x42D07bb6c76be95343c19d8d87ef601C304eBf5B<br>TX Out: 1<br>TX In: 0<br>Total Sent: $3.25<br>Total Received: $0.00<br>Driver Score: 6.47",
          "Address: 0x6115D0776262110A20fBe190E59A102302791C38<br>TX Out: 1<br>TX In: 0<br>Total Sent: $3.25<br>Total Received: $0.00<br>Driver Score: 6.47",
          "Address: 0x093aC14239BEbf9a973794760655a36629A70664<br>TX Out: 1<br>TX In: 0<br>Total Sent: $3.25<br>Total Received: $0.00<br>Driver Score: 6.47",
          "Address: 0x853e4442FA0afb0fe784818dcFAdD5D753bc00E9<br>TX Out: 1<br>TX In: 0<br>Total Sent: $3.25<br>Total Received: $0.00<br>Driver Score: 6.47"
         ],
         "type": "scatter",
         "visible": false,
         "x": [
          1,
          0.06677315752402034,
          0.20571218888102344,
          0.3737875217939371,
          0.003669993003465243,
          0.21086234705338044,
          -0.10056140799017445,
          -0.3533911620818448,
          -0.355607534002577,
          -0.04287113627564712,
          -0.49577481016392627,
          -0.4655620441298995,
          -0.40745074759719413,
          -0.3257409445118847,
          -0.2258320155161235,
          -0.11408854076940636,
          0.002518515990712303,
          0.11686663502464738,
          0.22166962782005922,
          0.31002631938139896,
          0.37499403656603314
         ],
         "xaxis": "x",
         "y": [
          -0.08434446115293089,
          -0.4218644432467861,
          0.5117277508863055,
          0.25842184230689735,
          0.5257582904196116,
          0.468251846432953,
          0.6666788290796173,
          0.2719636163744855,
          0.4041475758867607,
          0.07162845175546109,
          0.014382046982936325,
          -0.10086659611414563,
          -0.20318898451343415,
          -0.2867638454708384,
          -0.34670057062503307,
          -0.3793826789966921,
          -0.38271410925916266,
          -0.35612368326115124,
          -0.30053200717371437,
          -0.21809962451019257,
          -0.11237924580094723
         ],
         "yaxis": "y"
        },
        {
         "hoverinfo": "text",
         "marker": {
          "color": [
           "#ff6b6b",
           "#ff6b6b",
           "#ff6b6b",
           "#ff6b6b",
           "#06d6a0",
           "#06d6a0",
           "#06d6a0",
           "#ff6b6b",
           "#06d6a0",
           "#118ab2",
           "#06d6a0",
           "#06d6a0",
           "#06d6a0",
           "#06d6a0",
           "#06d6a0",
           "#06d6a0",
           "#06d6a0",
           "#06d6a0",
           "#06d6a0",
           "#06d6a0",
           "#06d6a0"
          ],
          "line": {
           "color": "rgba(250,250,250,0.3)",
           "width": 1
          },
          "size": [
           33.96487493347526,
           11.053751995742417,
           40,
           15.15167642362959,
           11.053751995742417,
           7.421500798296966,
           10.941990420436403,
           13.475252794039383,
           11.053751995742417,
           5,
           10.97924427887174,
           11.053751995742417,
           11.053751995742417,
           11.053751995742417,
           11.053751995742417,
           11.053751995742417,
           11.053751995742417,
           11.053751995742417,
           11.053751995742417,
           11.053751995742417,
           11.053751995742417
          ]
         },
         "mode": "markers",
         "showlegend": false,
         "text": [
          "Address: 0x2Fef6792255c4A901D11d5a92Bb45BD62efcB55C<br>TX Out: 2<br>TX In: 2<br>Total Sent: $15.55<br>Total Received: $15.55<br>Driver Score: 10.93",
          "Address: 0x214b36Cc2Dc66424DA969FCa2494A356dfF6aF4E<br>TX Out: 1<br>TX In: 2<br>Total Sent: $3.25<br>Total Received: $15.55<br>Driver Score: 6.74",
          "Address: 0xa18D1319b944a79d4bCC9F1D0B5D57dbB89521D0<br>TX Out: 3<br>TX In: 0<br>Total Sent: $18.79<br>Total Received: $0.00<br>Driver Score: 17.14",
          "Address: 0x5Af622aBce14E8438f665DDc99C6135E933B8E4E<br>TX Out: 2<br>TX In: 0<br>Total Sent: $5.45<br>Total Received: $0.00<br>Driver Score: 12.63",
          "Address: 0x424Bb8E613bD2B9dE3432e8423F151454Fa4430a<br>TX Out: 1<br>TX In: 1<br>Total Sent: $3.25<br>Total Received: $2.20<br>Driver Score: 6.47",
          "Address: 0xb5123c95caDabfa26e4f748042c08d484029d8EB<br>TX Out: 1<br>TX In: 1<br>Total Sent: $1.30<br>Total Received: $1.30<br>Driver Score: 6.15",
          "Address: 0x36f1959fbAB05CAAEEBC4f70a5d0871138B1e3a7<br>TX Out: 1<br>TX In: 1<br>Total Sent: $3.19<br>Total Received: $1.30<br>Driver Score: 6.72",
          "Address: 0x6023a9820867e00A9a067B205bB990BA9117A3C6<br>TX Out: 2<br>TX In: 0<br>Total Sent: $4.55<br>Total Received: $0.00<br>Driver Score: 12.37",
          "Address: 0x7B41801B47f8279C3A9fAe6Aa61E8aE141D90608<br>TX Out: 1<br>TX In: 0<br>Total Sent: $3.25<br>Total Received: $0.00<br>Driver Score: 6.47",
          "Address: 0x1E191aD29BA045211739FE3BE845F3C6446eB308<br>TX Out: 0<br>TX In: 18<br>Total Sent: $0.00<br>Total Received: $58.39<br>Driver Score: 0.00",
          "Address: 0xfF5527923930831783B659F24498BB76ff6457DC<br>TX Out: 1<br>TX In: 0<br>Total Sent: $3.21<br>Total Received: $0.00<br>Driver Score: 6.46",
          "Address: 0xb89DaEC63973eEA96bB69979db772B028F0E5d1E<br>TX Out: 1<br>TX In: 0<br>Total Sent: $3.25<br>Total Received: $0.00<br>Driver Score: 6.47",
          "Address: 0x5e1606e1D69170b59bE14C105F728A111bae96Ea<br>TX Out: 1<br>TX In: 0<br>Total Sent: $3.25<br>Total Received: $0.00<br>Driver Score: 6.47",
          "Address: 0xD29C2df656B2E4AE6B6817CCC2EBE932FC6A950B<br>TX Out: 1<br>TX In: 0<br>Total Sent: $3.25<br>Total Received: $0.00<br>Driver Score: 6.47",
          "Address: 0x4761406f3fbd79Dfd58951a87f6cea75a79E6434<br>TX Out: 1<br>TX In: 0<br>Total Sent: $3.25<br>Total Received: $0.00<br>Driver Score: 6.47",
          "Address: 0xe23dFB0dC260ee2b0D14c7E2A12901206b0Cc1BE<br>TX Out: 1<br>TX In: 0<br>Total Sent: $3.25<br>Total Received: $0.00<br>Driver Score: 6.47",
          "Address: 0xA39ad44725E428Df55A56d82ecAEB2EC57B903E1<br>TX Out: 1<br>TX In: 0<br>Total Sent: $3.25<br>Total Received: $0.00<br>Driver Score: 6.47",
          "Address: 0x42D07bb6c76be95343c19d8d87ef601C304eBf5B<br>TX Out: 1<br>TX In: 0<br>Total Sent: $3.25<br>Total Received: $0.00<br>Driver Score: 6.47",
          "Address: 0x6115D0776262110A20fBe190E59A102302791C38<br>TX Out: 1<br>TX In: 0<br>Total Sent: $3.25<br>Total Received: $0.00<br>Driver Score: 6.47",
          "Address: 0x093aC14239BEbf9a973794760655a36629A70664<br>TX Out: 1<br>TX In: 0<br>Total Sent: $3.25<br>Total Received: $0.00<br>Driver Score: 6.47",
          "Address: 0x853e4442FA0afb0fe784818dcFAdD5D753bc00E9<br>TX Out: 1<br>TX In: 0<br>Total Sent: $3.25<br>Total Received: $0.00<br>Driver Score: 6.47"
         ],
         "type": "scatter",
         "visible": false,
         "x": [
          1,
          0.06677315752402034,
          0.20571218888102344,
          0.3737875217939371,
          0.003669993003465243,
          0.21086234705338044,
          -0.10056140799017445,
          -0.3533911620818448,
          -0.355607534002577,
          -0.04287113627564712,
          -0.49577481016392627,
          -0.4655620441298995,
          -0.40745074759719413,
          -0.3257409445118847,
          -0.2258320155161235,
          -0.11408854076940636,
          0.002518515990712303,
          0.11686663502464738,
          0.22166962782005922,
          0.31002631938139896,
          0.37499403656603314
         ],
         "xaxis": "x",
         "y": [
          -0.08434446115293089,
          -0.4218644432467861,
          0.5117277508863055,
          0.25842184230689735,
          0.5257582904196116,
          0.468251846432953,
          0.6666788290796173,
          0.2719636163744855,
          0.4041475758867607,
          0.07162845175546109,
          0.014382046982936325,
          -0.10086659611414563,
          -0.20318898451343415,
          -0.2867638454708384,
          -0.34670057062503307,
          -0.3793826789966921,
          -0.38271410925916266,
          -0.35612368326115124,
          -0.30053200717371437,
          -0.21809962451019257,
          -0.11237924580094723
         ],
         "yaxis": "y"
        },
        {
         "hoverinfo": "text",
         "marker": {
          "color": [
           "#ff6b6b",
           "#ff6b6b",
           "#ff6b6b",
           "#ff6b6b",
           "#06d6a0",
           "#06d6a0",
           "#06d6a0",
           "#ff6b6b",
           "#06d6a0",
           "#118ab2",
           "#06d6a0",
           "#06d6a0",
           "#06d6a0",
           "#06d6a0",
           "#06d6a0",
           "#06d6a0",
           "#06d6a0",
           "#06d6a0",
           "#06d6a0",
           "#06d6a0",
           "#06d6a0"
          ],
          "line": {
           "color": "rgba(250,250,250,0.3)",
           "width": 1
          },
          "size": [
           14.320945367357425,
           14.320945367357425,
           5,
           5,
           6.3187189587258095,
           5.779243021065251,
           5.779243021065251,
           5,
           5,
           40,
           5,
           5,
           5,
           5,
           5,
           5,
           5,
           5,
           5,
           5,
           5
          ]
         },
         "mode": "markers",
         "showlegend": false,
         "text": [
          "Address: 0x2Fef6792255c4A901D11d5a92Bb45BD62efcB55C<br>TX Out: 2<br>TX In: 2<br>Total Sent: $15.55<br>Total Received: $15.55<br>Driver Score: 10.93",
          "Address: 0x214b36Cc2Dc66424DA969FCa2494A356dfF6aF4E<br>TX Out: 1<br>TX In: 2<br>Total Sent: $3.25<br>Total Received: $15.55<br>Driver Score: 6.74",
          "Address: 0xa18D1319b944a79d4bCC9F1D0B5D57dbB89521D0<br>TX Out: 3<br>TX In: 0<br>Total Sent: $18.79<br>Total Received: $0.00<br>Driver Score: 17.14",
          "Address: 0x5Af622aBce14E8438f665DDc99C6135E933B8E4E<br>TX Out: 2<br>TX In: 0<br>Total Sent: $5.45<br>Total Received: $0.00<br>Driver Score: 12.63",
          "Address: 0x424Bb8E613bD2B9dE3432e8423F151454Fa4430a<br>TX Out: 1<br>TX In: 1<br>Total Sent: $3.25<br>Total Received: $2.20<br>Driver Score: 6.47",
          "Address: 0xb5123c95caDabfa26e4f748042c08d484029d8EB<br>TX Out: 1<br>TX In: 1<br>Total Sent: $1.30<br>Total Received: $1.30<br>Driver Score: 6.15",
          "Address: 0x36f1959fbAB05CAAEEBC4f70a5d0871138B1e3a7<br>TX Out: 1<br>TX In: 1<br>Total Sent: $3.19<br>Total Received: $1.30<br>Driver Score: 6.72",
          "Address: 0x6023a9820867e00A9a067B205bB990BA9117A3C6<br>TX Out: 2<br>TX In: 0<br>Total Sent: $4.55<br>Total Received: $0.00<br>Driver Score: 12.37",
          "Address: 0x7B41801B47f8279C3A9fAe6Aa61E8aE141D90608<br>TX Out: 1<br>TX In: 0<br>Total Sent: $3.25<br>Total Received: $0.00<br>Driver Score: 6.47",
          "Address: 0x1E191aD29BA045211739FE3BE845F3C6446eB308<br>TX Out: 0<br>TX In: 18<br>Total Sent: $0.00<br>Total Received: $58.39<br>Driver Score: 0.00",
          "Address: 0xfF5527923930831783B659F24498BB76ff6457DC<br>TX Out: 1<br>TX In: 0<br>Total Sent: $3.21<br>Total Received: $0.00<br>Driver Score: 6.46",
          "Address: 0xb89DaEC63973eEA96bB69979db772B028F0E5d1E<br>TX Out: 1<br>TX In: 0<br>Total Sent: $3.25<br>Total Received: $0.00<br>Driver Score: 6.47",
          "Address: 0x5e1606e1D69170b59bE14C105F728A111bae96Ea<br>TX Out: 1<br>TX In: 0<br>Total Sent: $3.25<br>Total Received: $0.00<br>Driver Score: 6.47",
          "Address: 0xD29C2df656B2E4AE6B6817CCC2EBE932FC6A950B<br>TX Out: 1<br>TX In: 0<br>Total Sent: $3.25<br>Total Received: $0.00<br>Driver Score: 6.47",
          "Address: 0x4761406f3fbd79Dfd58951a87f6cea75a79E6434<br>TX Out: 1<br>TX In: 0<br>Total Sent: $3.25<br>Total Received: $0.00<br>Driver Score: 6.47",
          "Address: 0xe23dFB0dC260ee2b0D14c7E2A12901206b0Cc1BE<br>TX Out: 1<br>TX In: 0<br>Total Sent: $3.25<br>Total Received: $0.00<br>Driver Score: 6.47",
          "Address: 0xA39ad44725E428Df55A56d82ecAEB2EC57B903E1<br>TX Out: 1<br>TX In: 0<br>Total Sent: $3.25<br>Total Received: $0.00<br>Driver Score: 6.47",
          "Address: 0x42D07bb6c76be95343c19d8d87ef601C304eBf5B<br>TX Out: 1<br>TX In: 0<br>Total Sent: $3.25<br>Total Received: $0.00<br>Driver Score: 6.47",
          "Address: 0x6115D0776262110A20fBe190E59A102302791C38<br>TX Out: 1<br>TX In: 0<br>Total Sent: $3.25<br>Total Received: $0.00<br>Driver Score: 6.47",
          "Address: 0x093aC14239BEbf9a973794760655a36629A70664<br>TX Out: 1<br>TX In: 0<br>Total Sent: $3.25<br>Total Received: $0.00<br>Driver Score: 6.47",
          "Address: 0x853e4442FA0afb0fe784818dcFAdD5D753bc00E9<br>TX Out: 1<br>TX In: 0<br>Total Sent: $3.25<br>Total Received: $0.00<br>Driver Score: 6.47"
         ],
         "type": "scatter",
         "visible": false,
         "x": [
          1,
          0.06677315752402034,
          0.20571218888102344,
          0.3737875217939371,
          0.003669993003465243,
          0.21086234705338044,
          -0.10056140799017445,
          -0.3533911620818448,
          -0.355607534002577,
          -0.04287113627564712,
          -0.49577481016392627,
          -0.4655620441298995,
          -0.40745074759719413,
          -0.3257409445118847,
          -0.2258320155161235,
          -0.11408854076940636,
          0.002518515990712303,
          0.11686663502464738,
          0.22166962782005922,
          0.31002631938139896,
          0.37499403656603314
         ],
         "xaxis": "x",
         "y": [
          -0.08434446115293089,
          -0.4218644432467861,
          0.5117277508863055,
          0.25842184230689735,
          0.5257582904196116,
          0.468251846432953,
          0.6666788290796173,
          0.2719636163744855,
          0.4041475758867607,
          0.07162845175546109,
          0.014382046982936325,
          -0.10086659611414563,
          -0.20318898451343415,
          -0.2867638454708384,
          -0.34670057062503307,
          -0.3793826789966921,
          -0.38271410925916266,
          -0.35612368326115124,
          -0.30053200717371437,
          -0.21809962451019257,
          -0.11237924580094723
         ],
         "yaxis": "y"
        },
        {
         "cells": {
          "align": "left",
          "fill": {
           "color": "#264653"
          },
          "font": {
           "color": "#ffffff",
           "size": 12
          },
          "height": 25,
          "line": {
           "color": "rgba(255,255,255,0.1)"
          },
          "values": [
           [
            "0xa18D1319b944a79d4bCC9F1D0B5D57dbB89521D0",
            "0x5Af622aBce14E8438f665DDc99C6135E933B8E4E",
            "0x6023a9820867e00A9a067B205bB990BA9117A3C6",
            "0x2Fef6792255c4A901D11d5a92Bb45BD62efcB55C",
            "0x214b36Cc2Dc66424DA969FCa2494A356dfF6aF4E",
            "0x36f1959fbAB05CAAEEBC4f70a5d0871138B1e3a7",
            "0x424Bb8E613bD2B9dE3432e8423F151454Fa4430a",
            "0x7B41801B47f8279C3A9fAe6Aa61E8aE141D90608",
            "0xb89DaEC63973eEA96bB69979db772B028F0E5d1E",
            "0x5e1606e1D69170b59bE14C105F728A111bae96Ea"
           ],
           [
            3,
            2,
            2,
            2,
            1,
            1,
            1,
            1,
            1,
            1
           ],
           [
            0,
            0,
            0,
            2,
            2,
            1,
            1,
            0,
            0,
            0
           ],
           [
            3,
            2,
            2,
            1,
            0.5,
            1,
            1,
            1,
            1,
            1
           ],
           [
            3,
            2,
            2,
            4,
            3,
            2,
            2,
            1,
            1,
            1
           ],
           [
            18.79,
            5.45,
            4.55,
            15.55,
            3.25,
            3.19,
            3.25,
            3.25,
            3.25,
            3.25
           ],
           [
            0,
            0,
            0,
            15.55,
            15.55,
            1.3,
            2.2,
            0,
            0,
            0
           ],
           [
            17.14,
            12.63,
            12.37,
            10.93,
            6.74,
            6.72,
            6.47,
            6.47,
            6.47,
            6.47
           ]
          ]
         },
         "columnwidth": [
          300,
          40,
          40,
          50,
          50,
          80,
          80,
          60
         ],
         "domain": {
          "x": [
           0.73,
           1
          ],
          "y": [
           0.4,
           1
          ]
         },
         "header": {
          "align": "left",
          "fill": {
           "color": "#073b4c"
          },
          "font": {
           "color": "#ffffff",
           "size": 13
          },
          "height": 30,
          "line": {
           "color": "rgba(255,255,255,0.2)"
          },
          "values": [
           "Address",
           "TX Out",
           "TX In",
           "Out/In Ratio",
           "Total TX",
           "Total Sent ($)",
           "Total Received ($)",
           "Driver Score"
          ]
         },
         "type": "table"
        },
        {
         "cells": {
          "align": "left",
          "fill": {
           "color": "#264653"
          },
          "font": {
           "color": "#ffffff",
           "size": 12
          },
          "height": 25,
          "line": {
           "color": "rgba(255,255,255,0.1)"
          },
          "values": [
           [
            "Total Transactions",
            "Total Unique Wallets",
            "Top Origin Wallet",
            "Most Active Origin TX Count",
            "Network Density"
           ],
           [
            "25",
            "21",
            "0xa18D1319b944a79d4bCC9F1D0B5D57dbB89521D0",
            "3",
            "0.0548"
           ]
          ]
         },
         "columnwidth": [
          150,
          100
         ],
         "domain": {
          "x": [
           0.73,
           1
          ],
          "y": [
           0,
           0.15000000000000002
          ]
         },
         "header": {
          "align": "left",
          "fill": {
           "color": "#073b4c"
          },
          "font": {
           "color": "#ffffff",
           "size": 13
          },
          "height": 30,
          "line": {
           "color": "rgba(255,255,255,0.2)"
          },
          "values": [
           "Metric",
           "Value"
          ]
         },
         "type": "table"
        },
        {
         "legendgroup": "wallet_types",
         "marker": {
          "color": "#ff6b6b",
          "size": 15
         },
         "mode": "markers",
         "name": "Top Origin Wallets",
         "showlegend": true,
         "type": "scatter",
         "x": [
          null
         ],
         "xaxis": "x",
         "y": [
          null
         ],
         "yaxis": "y"
        },
        {
         "legendgroup": "wallet_types",
         "marker": {
          "color": "#ffd166",
          "size": 15
         },
         "mode": "markers",
         "name": "Sender Wallets",
         "showlegend": true,
         "type": "scatter",
         "x": [
          null
         ],
         "xaxis": "x",
         "y": [
          null
         ],
         "yaxis": "y"
        },
        {
         "legendgroup": "wallet_types",
         "marker": {
          "color": "#06d6a0",
          "size": 15
         },
         "mode": "markers",
         "name": "Balanced Wallets",
         "showlegend": true,
         "type": "scatter",
         "x": [
          null
         ],
         "xaxis": "x",
         "y": [
          null
         ],
         "yaxis": "y"
        },
        {
         "legendgroup": "wallet_types",
         "marker": {
          "color": "#118ab2",
          "size": 15
         },
         "mode": "markers",
         "name": "Receiver Wallets",
         "showlegend": true,
         "type": "scatter",
         "x": [
          null
         ],
         "xaxis": "x",
         "y": [
          null
         ],
         "yaxis": "y"
        }
       ],
       "layout": {
        "annotations": [
         {
          "align": "left",
          "font": {
           "color": "#f8f9fa",
           "family": "Arial, sans-serif",
           "size": 14
          },
          "showarrow": false,
          "text": "Size Nodes By:",
          "x": 0.055,
          "xanchor": "center",
          "xref": "paper",
          "y": 1.105,
          "yanchor": "bottom",
          "yref": "paper"
         },
         {
          "align": "left",
          "font": {
           "color": "#f8f9fa",
           "family": "Arial, sans-serif",
           "size": 14
          },
          "showarrow": false,
          "text": "Size Nodes By:",
          "x": 0.055,
          "xanchor": "center",
          "xref": "paper",
          "y": 1.105,
          "yanchor": "bottom",
          "yref": "paper"
         },
         {
          "align": "left",
          "font": {
           "color": "#f8f9fa",
           "family": "Arial, sans-serif",
           "size": 14
          },
          "showarrow": false,
          "text": "Size Nodes By:",
          "x": 0.055,
          "xanchor": "center",
          "xref": "paper",
          "y": 1.105,
          "yanchor": "bottom",
          "yref": "paper"
         }
        ],
        "font": {
         "color": "#f8f9fa",
         "family": "Arial, sans-serif"
        },
        "height": 950,
        "hovermode": "closest",
        "legend": {
         "bgcolor": "rgba(0,0,0,0.5)",
         "bordercolor": "rgba(255,255,255,0.2)",
         "borderwidth": 1,
         "font": {
          "color": "#f8f9fa"
         },
         "itemsizing": "constant",
         "x": 0.01,
         "y": 0.99
        },
        "margin": {
         "b": 20,
         "l": 5,
         "r": 5,
         "t": 100
        },
        "paper_bgcolor": "#212529",
        "plot_bgcolor": "#212529",
        "showlegend": true,
        "template": {
         "data": {
          "bar": [
           {
            "error_x": {
             "color": "#2a3f5f"
            },
            "error_y": {
             "color": "#2a3f5f"
            },
            "marker": {
             "line": {
              "color": "#E5ECF6",
              "width": 0.5
             },
             "pattern": {
              "fillmode": "overlay",
              "size": 10,
              "solidity": 0.2
             }
            },
            "type": "bar"
           }
          ],
          "barpolar": [
           {
            "marker": {
             "line": {
              "color": "#E5ECF6",
              "width": 0.5
             },
             "pattern": {
              "fillmode": "overlay",
              "size": 10,
              "solidity": 0.2
             }
            },
            "type": "barpolar"
           }
          ],
          "carpet": [
           {
            "aaxis": {
             "endlinecolor": "#2a3f5f",
             "gridcolor": "white",
             "linecolor": "white",
             "minorgridcolor": "white",
             "startlinecolor": "#2a3f5f"
            },
            "baxis": {
             "endlinecolor": "#2a3f5f",
             "gridcolor": "white",
             "linecolor": "white",
             "minorgridcolor": "white",
             "startlinecolor": "#2a3f5f"
            },
            "type": "carpet"
           }
          ],
          "choropleth": [
           {
            "colorbar": {
             "outlinewidth": 0,
             "ticks": ""
            },
            "type": "choropleth"
           }
          ],
          "contour": [
           {
            "colorbar": {
             "outlinewidth": 0,
             "ticks": ""
            },
            "colorscale": [
             [
              0,
              "#0d0887"
             ],
             [
              0.1111111111111111,
              "#46039f"
             ],
             [
              0.2222222222222222,
              "#7201a8"
             ],
             [
              0.3333333333333333,
              "#9c179e"
             ],
             [
              0.4444444444444444,
              "#bd3786"
             ],
             [
              0.5555555555555556,
              "#d8576b"
             ],
             [
              0.6666666666666666,
              "#ed7953"
             ],
             [
              0.7777777777777778,
              "#fb9f3a"
             ],
             [
              0.8888888888888888,
              "#fdca26"
             ],
             [
              1,
              "#f0f921"
             ]
            ],
            "type": "contour"
           }
          ],
          "contourcarpet": [
           {
            "colorbar": {
             "outlinewidth": 0,
             "ticks": ""
            },
            "type": "contourcarpet"
           }
          ],
          "heatmap": [
           {
            "colorbar": {
             "outlinewidth": 0,
             "ticks": ""
            },
            "colorscale": [
             [
              0,
              "#0d0887"
             ],
             [
              0.1111111111111111,
              "#46039f"
             ],
             [
              0.2222222222222222,
              "#7201a8"
             ],
             [
              0.3333333333333333,
              "#9c179e"
             ],
             [
              0.4444444444444444,
              "#bd3786"
             ],
             [
              0.5555555555555556,
              "#d8576b"
             ],
             [
              0.6666666666666666,
              "#ed7953"
             ],
             [
              0.7777777777777778,
              "#fb9f3a"
             ],
             [
              0.8888888888888888,
              "#fdca26"
             ],
             [
              1,
              "#f0f921"
             ]
            ],
            "type": "heatmap"
           }
          ],
          "heatmapgl": [
           {
            "colorbar": {
             "outlinewidth": 0,
             "ticks": ""
            },
            "colorscale": [
             [
              0,
              "#0d0887"
             ],
             [
              0.1111111111111111,
              "#46039f"
             ],
             [
              0.2222222222222222,
              "#7201a8"
             ],
             [
              0.3333333333333333,
              "#9c179e"
             ],
             [
              0.4444444444444444,
              "#bd3786"
             ],
             [
              0.5555555555555556,
              "#d8576b"
             ],
             [
              0.6666666666666666,
              "#ed7953"
             ],
             [
              0.7777777777777778,
              "#fb9f3a"
             ],
             [
              0.8888888888888888,
              "#fdca26"
             ],
             [
              1,
              "#f0f921"
             ]
            ],
            "type": "heatmapgl"
           }
          ],
          "histogram": [
           {
            "marker": {
             "pattern": {
              "fillmode": "overlay",
              "size": 10,
              "solidity": 0.2
             }
            },
            "type": "histogram"
           }
          ],
          "histogram2d": [
           {
            "colorbar": {
             "outlinewidth": 0,
             "ticks": ""
            },
            "colorscale": [
             [
              0,
              "#0d0887"
             ],
             [
              0.1111111111111111,
              "#46039f"
             ],
             [
              0.2222222222222222,
              "#7201a8"
             ],
             [
              0.3333333333333333,
              "#9c179e"
             ],
             [
              0.4444444444444444,
              "#bd3786"
             ],
             [
              0.5555555555555556,
              "#d8576b"
             ],
             [
              0.6666666666666666,
              "#ed7953"
             ],
             [
              0.7777777777777778,
              "#fb9f3a"
             ],
             [
              0.8888888888888888,
              "#fdca26"
             ],
             [
              1,
              "#f0f921"
             ]
            ],
            "type": "histogram2d"
           }
          ],
          "histogram2dcontour": [
           {
            "colorbar": {
             "outlinewidth": 0,
             "ticks": ""
            },
            "colorscale": [
             [
              0,
              "#0d0887"
             ],
             [
              0.1111111111111111,
              "#46039f"
             ],
             [
              0.2222222222222222,
              "#7201a8"
             ],
             [
              0.3333333333333333,
              "#9c179e"
             ],
             [
              0.4444444444444444,
              "#bd3786"
             ],
             [
              0.5555555555555556,
              "#d8576b"
             ],
             [
              0.6666666666666666,
              "#ed7953"
             ],
             [
              0.7777777777777778,
              "#fb9f3a"
             ],
             [
              0.8888888888888888,
              "#fdca26"
             ],
             [
              1,
              "#f0f921"
             ]
            ],
            "type": "histogram2dcontour"
           }
          ],
          "mesh3d": [
           {
            "colorbar": {
             "outlinewidth": 0,
             "ticks": ""
            },
            "type": "mesh3d"
           }
          ],
          "parcoords": [
           {
            "line": {
             "colorbar": {
              "outlinewidth": 0,
              "ticks": ""
             }
            },
            "type": "parcoords"
           }
          ],
          "pie": [
           {
            "automargin": true,
            "type": "pie"
           }
          ],
          "scatter": [
           {
            "fillpattern": {
             "fillmode": "overlay",
             "size": 10,
             "solidity": 0.2
            },
            "type": "scatter"
           }
          ],
          "scatter3d": [
           {
            "line": {
             "colorbar": {
              "outlinewidth": 0,
              "ticks": ""
             }
            },
            "marker": {
             "colorbar": {
              "outlinewidth": 0,
              "ticks": ""
             }
            },
            "type": "scatter3d"
           }
          ],
          "scattercarpet": [
           {
            "marker": {
             "colorbar": {
              "outlinewidth": 0,
              "ticks": ""
             }
            },
            "type": "scattercarpet"
           }
          ],
          "scattergeo": [
           {
            "marker": {
             "colorbar": {
              "outlinewidth": 0,
              "ticks": ""
             }
            },
            "type": "scattergeo"
           }
          ],
          "scattergl": [
           {
            "marker": {
             "colorbar": {
              "outlinewidth": 0,
              "ticks": ""
             }
            },
            "type": "scattergl"
           }
          ],
          "scattermapbox": [
           {
            "marker": {
             "colorbar": {
              "outlinewidth": 0,
              "ticks": ""
             }
            },
            "type": "scattermapbox"
           }
          ],
          "scatterpolar": [
           {
            "marker": {
             "colorbar": {
              "outlinewidth": 0,
              "ticks": ""
             }
            },
            "type": "scatterpolar"
           }
          ],
          "scatterpolargl": [
           {
            "marker": {
             "colorbar": {
              "outlinewidth": 0,
              "ticks": ""
             }
            },
            "type": "scatterpolargl"
           }
          ],
          "scatterternary": [
           {
            "marker": {
             "colorbar": {
              "outlinewidth": 0,
              "ticks": ""
             }
            },
            "type": "scatterternary"
           }
          ],
          "surface": [
           {
            "colorbar": {
             "outlinewidth": 0,
             "ticks": ""
            },
            "colorscale": [
             [
              0,
              "#0d0887"
             ],
             [
              0.1111111111111111,
              "#46039f"
             ],
             [
              0.2222222222222222,
              "#7201a8"
             ],
             [
              0.3333333333333333,
              "#9c179e"
             ],
             [
              0.4444444444444444,
              "#bd3786"
             ],
             [
              0.5555555555555556,
              "#d8576b"
             ],
             [
              0.6666666666666666,
              "#ed7953"
             ],
             [
              0.7777777777777778,
              "#fb9f3a"
             ],
             [
              0.8888888888888888,
              "#fdca26"
             ],
             [
              1,
              "#f0f921"
             ]
            ],
            "type": "surface"
           }
          ],
          "table": [
           {
            "cells": {
             "fill": {
              "color": "#EBF0F8"
             },
             "line": {
              "color": "white"
             }
            },
            "header": {
             "fill": {
              "color": "#C8D4E3"
             },
             "line": {
              "color": "white"
             }
            },
            "type": "table"
           }
          ]
         },
         "layout": {
          "annotationdefaults": {
           "arrowcolor": "#2a3f5f",
           "arrowhead": 0,
           "arrowwidth": 1
          },
          "autotypenumbers": "strict",
          "coloraxis": {
           "colorbar": {
            "outlinewidth": 0,
            "ticks": ""
           }
          },
          "colorscale": {
           "diverging": [
            [
             0,
             "#8e0152"
            ],
            [
             0.1,
             "#c51b7d"
            ],
            [
             0.2,
             "#de77ae"
            ],
            [
             0.3,
             "#f1b6da"
            ],
            [
             0.4,
             "#fde0ef"
            ],
            [
             0.5,
             "#f7f7f7"
            ],
            [
             0.6,
             "#e6f5d0"
            ],
            [
             0.7,
             "#b8e186"
            ],
            [
             0.8,
             "#7fbc41"
            ],
            [
             0.9,
             "#4d9221"
            ],
            [
             1,
             "#276419"
            ]
           ],
           "sequential": [
            [
             0,
             "#0d0887"
            ],
            [
             0.1111111111111111,
             "#46039f"
            ],
            [
             0.2222222222222222,
             "#7201a8"
            ],
            [
             0.3333333333333333,
             "#9c179e"
            ],
            [
             0.4444444444444444,
             "#bd3786"
            ],
            [
             0.5555555555555556,
             "#d8576b"
            ],
            [
             0.6666666666666666,
             "#ed7953"
            ],
            [
             0.7777777777777778,
             "#fb9f3a"
            ],
            [
             0.8888888888888888,
             "#fdca26"
            ],
            [
             1,
             "#f0f921"
            ]
           ],
           "sequentialminus": [
            [
             0,
             "#0d0887"
            ],
            [
             0.1111111111111111,
             "#46039f"
            ],
            [
             0.2222222222222222,
             "#7201a8"
            ],
            [
             0.3333333333333333,
             "#9c179e"
            ],
            [
             0.4444444444444444,
             "#bd3786"
            ],
            [
             0.5555555555555556,
             "#d8576b"
            ],
            [
             0.6666666666666666,
             "#ed7953"
            ],
            [
             0.7777777777777778,
             "#fb9f3a"
            ],
            [
             0.8888888888888888,
             "#fdca26"
            ],
            [
             1,
             "#f0f921"
            ]
           ]
          },
          "colorway": [
           "#636efa",
           "#EF553B",
           "#00cc96",
           "#ab63fa",
           "#FFA15A",
           "#19d3f3",
           "#FF6692",
           "#B6E880",
           "#FF97FF",
           "#FECB52"
          ],
          "font": {
           "color": "#2a3f5f"
          },
          "geo": {
           "bgcolor": "white",
           "lakecolor": "white",
           "landcolor": "#E5ECF6",
           "showlakes": true,
           "showland": true,
           "subunitcolor": "white"
          },
          "hoverlabel": {
           "align": "left"
          },
          "hovermode": "closest",
          "mapbox": {
           "style": "light"
          },
          "paper_bgcolor": "white",
          "plot_bgcolor": "#E5ECF6",
          "polar": {
           "angularaxis": {
            "gridcolor": "white",
            "linecolor": "white",
            "ticks": ""
           },
           "bgcolor": "#E5ECF6",
           "radialaxis": {
            "gridcolor": "white",
            "linecolor": "white",
            "ticks": ""
           }
          },
          "scene": {
           "xaxis": {
            "backgroundcolor": "#E5ECF6",
            "gridcolor": "white",
            "gridwidth": 2,
            "linecolor": "white",
            "showbackground": true,
            "ticks": "",
            "zerolinecolor": "white"
           },
           "yaxis": {
            "backgroundcolor": "#E5ECF6",
            "gridcolor": "white",
            "gridwidth": 2,
            "linecolor": "white",
            "showbackground": true,
            "ticks": "",
            "zerolinecolor": "white"
           },
           "zaxis": {
            "backgroundcolor": "#E5ECF6",
            "gridcolor": "white",
            "gridwidth": 2,
            "linecolor": "white",
            "showbackground": true,
            "ticks": "",
            "zerolinecolor": "white"
           }
          },
          "shapedefaults": {
           "line": {
            "color": "#2a3f5f"
           }
          },
          "ternary": {
           "aaxis": {
            "gridcolor": "white",
            "linecolor": "white",
            "ticks": ""
           },
           "baxis": {
            "gridcolor": "white",
            "linecolor": "white",
            "ticks": ""
           },
           "bgcolor": "#E5ECF6",
           "caxis": {
            "gridcolor": "white",
            "linecolor": "white",
            "ticks": ""
           }
          },
          "title": {
           "x": 0.05
          },
          "xaxis": {
           "automargin": true,
           "gridcolor": "white",
           "linecolor": "white",
           "ticks": "",
           "title": {
            "standoff": 15
           },
           "zerolinecolor": "white",
           "zerolinewidth": 2
          },
          "yaxis": {
           "automargin": true,
           "gridcolor": "white",
           "linecolor": "white",
           "ticks": "",
           "title": {
            "standoff": 15
           },
           "zerolinecolor": "white",
           "zerolinewidth": 2
          }
         }
        },
        "title": {
         "font": {
          "color": "#f8f9fa",
          "family": "Arial, sans-serif",
          "size": 24
         },
         "text": "Token Transaction Network Analysis - Identifying Driver Wallets",
         "x": 0.5,
         "y": 0.98
        },
        "transition": {
         "duration": 500
        },
        "updatemenus": [
         {
          "active": 0,
          "bgcolor": "#052938",
          "bordercolor": "rgba(255,255,255,0.3)",
          "borderwidth": 1,
          "buttons": [
           {
            "args": [
             {
              "visible": [
               true,
               true,
               true,
               true,
               true,
               true,
               true,
               true,
               true,
               true,
               true,
               true,
               true,
               true,
               true,
               true,
               true,
               true,
               true,
               true,
               true,
               true,
               true,
               true,
               false,
               false,
               false,
               false,
               true,
               true,
               true,
               true,
               true,
               true
              ]
             }
            ],
            "label": "Driver Score",
            "method": "update"
           },
           {
            "args": [
             {
              "visible": [
               true,
               true,
               true,
               true,
               true,
               true,
               true,
               true,
               true,
               true,
               true,
               true,
               true,
               true,
               true,
               true,
               true,
               true,
               true,
               true,
               true,
               true,
               true,
               false,
               true,
               false,
               false,
               false,
               true,
               true,
               true,
               true,
               true,
               true
              ]
             }
            ],
            "label": "TX Out",
            "method": "update"
           },
           {
            "args": [
             {
              "visible": [
               true,
               true,
               true,
               true,
               true,
               true,
               true,
               true,
               true,
               true,
               true,
               true,
               true,
               true,
               true,
               true,
               true,
               true,
               true,
               true,
               true,
               true,
               true,
               false,
               false,
               true,
               false,
               false,
               true,
               true,
               true,
               true,
               true,
               true
              ]
             }
            ],
            "label": "TX In",
            "method": "update"
           },
           {
            "args": [
             {
              "visible": [
               true,
               true,
               true,
               true,
               true,
               true,
               true,
               true,
               true,
               true,
               true,
               true,
               true,
               true,
               true,
               true,
               true,
               true,
               true,
               true,
               true,
               true,
               true,
               false,
               false,
               false,
               true,
               false,
               true,
               true,
               true,
               true,
               true,
               true
              ]
             }
            ],
            "label": "Total Sent",
            "method": "update"
           },
           {
            "args": [
             {
              "visible": [
               true,
               true,
               true,
               true,
               true,
               true,
               true,
               true,
               true,
               true,
               true,
               true,
               true,
               true,
               true,
               true,
               true,
               true,
               true,
               true,
               true,
               true,
               true,
               false,
               false,
               false,
               false,
               true,
               true,
               true,
               true,
               true,
               true,
               true
              ]
             }
            ],
            "label": "Total Received",
            "method": "update"
           }
          ],
          "direction": "down",
          "font": {
           "color": "rgba(150,150,150,0.9)",
           "size": 13
          },
          "pad": {
           "r": 10,
           "t": 10
          },
          "showactive": true,
          "x": 0.1,
          "xanchor": "left",
          "y": 1.15,
          "yanchor": "top"
         }
        ],
        "width": 1600,
        "xaxis": {
         "anchor": "y",
         "domain": [
          0,
          0.63
         ],
         "showgrid": false,
         "showticklabels": false,
         "zeroline": false
        },
        "yaxis": {
         "anchor": "x",
         "domain": [
          0,
          1
         ],
         "showgrid": false,
         "showticklabels": false,
         "zeroline": false
        }
       }
      }
     },
     "metadata": {},
     "output_type": "display_data"
    }
   ],
   "source": [
    "# Set a modern color palette\n",
    "colors = {\n",
    "    'background': '#212529',\n",
    "    'text': '#f8f9fa',\n",
    "    'grid': '#495057',\n",
    "    'origin_node': '#ff6b6b',\n",
    "    'sender_node': '#ffd166',\n",
    "    'balanced_node': '#06d6a0',\n",
    "    'receiver_node': '#118ab2',\n",
    "    'table_header': '#073b4c',\n",
    "    'table_cell': '#264653',\n",
    "    'table_text': '#ffffff',\n",
    "    'edge': '#64748b',\n",
    "    'annotation_text': '#ffffff',\n",
    "    'button': '#0d6efd',\n",
    "    'button_text': '#ffffff'\n",
    "}\n",
    "\n",
    "# Create a darker version of the table header color for the dropdown\n",
    "dropdown_color = '#052938'  # Darker version of the table header blue\n",
    "\n",
    "# Create functions to generate node traces with different size metrics\n",
    "def create_node_trace(nodes, pos, size_by='Driver Score'):\n",
    "    # Get the appropriate node attribute for sizing\n",
    "    if size_by == 'Driver Score':\n",
    "        values = [driver_scores.get(node, 0) for node in nodes]\n",
    "    elif size_by == 'TX Out':\n",
    "        values = [G.nodes[node]['transaction_count_out'] for node in nodes]\n",
    "    elif size_by == 'TX In':\n",
    "        values = [G.nodes[node]['transaction_count_in'] for node in nodes]\n",
    "    elif size_by == 'Total Sent':\n",
    "        values = [G.nodes[node]['total_sent'] for node in nodes]\n",
    "    elif size_by == 'Total Received':\n",
    "        values = [G.nodes[node]['total_received'] for node in nodes]\n",
    "    \n",
    "    # Normalize sizes relative to maximum (if there's a non-zero max)\n",
    "    max_value = max(values) if max(values) > 0 else 1\n",
    "    # Scale between 5 (minimum) and 40 (maximum) for visibility\n",
    "    sizes = [5 + (35 * (value / max_value)) for value in values]\n",
    "    \n",
    "    # Create node colors based on out/in ratio (same logic as before)\n",
    "    colors = []\n",
    "    for node in nodes:\n",
    "        in_count = G.nodes[node]['transaction_count_in']\n",
    "        out_count = G.nodes[node]['transaction_count_out']\n",
    "        ratio = out_count / max(in_count, 1)\n",
    "        \n",
    "        if node in top_origin_nodes:\n",
    "            colors.append('#ff6b6b')  # Top origin nodes in red\n",
    "        elif ratio > 1.5:\n",
    "            colors.append('#ffd166')  # Sender wallets in orange\n",
    "        elif 0.5 < ratio <= 1.5:\n",
    "            colors.append('#06d6a0')  # Balanced wallets in green\n",
    "        else:\n",
    "            colors.append('#118ab2')  # Receiver wallets in blue\n",
    "    \n",
    "    # Create the updated node trace\n",
    "    node_trace = go.Scatter(\n",
    "        x=[pos[node][0] for node in nodes],\n",
    "        y=[pos[node][1] for node in nodes],\n",
    "        mode='markers',\n",
    "        marker=dict(\n",
    "            size=sizes,\n",
    "            color=colors,\n",
    "            line=dict(width=1, color='rgba(250,250,250,0.3)')\n",
    "        ),\n",
    "        text=[f\"Address: {node}<br>TX Out: {G.nodes[node]['transaction_count_out']}<br>TX In: {G.nodes[node]['transaction_count_in']}<br>Total Sent: ${G.nodes[node]['total_sent']:.2f}<br>Total Received: ${G.nodes[node]['total_received']:.2f}<br>Driver Score: {driver_scores.get(node, 0):.2f}\" for node in nodes],\n",
    "        hoverinfo='text',\n",
    "        showlegend=False\n",
    "    )\n",
    "    \n",
    "    return node_trace\n",
    "\n",
    "# Store all the different node trace versions\n",
    "node_trace_options = {\n",
    "    'Driver Score': create_node_trace(G.nodes(), pos, 'Driver Score'),\n",
    "    'TX Out': create_node_trace(G.nodes(), pos, 'TX Out'),\n",
    "    'TX In': create_node_trace(G.nodes(), pos, 'TX In'),\n",
    "    'Total Sent': create_node_trace(G.nodes(), pos, 'Total Sent'),\n",
    "    'Total Received': create_node_trace(G.nodes(), pos, 'Total Received')\n",
    "}\n",
    "\n",
    "# Create the subplot figure (graph + tables)\n",
    "fig = make_subplots(\n",
    "    rows=2, cols=2,\n",
    "    column_widths=[0.7, 0.3],\n",
    "    row_heights=[0.8, 0.2],\n",
    "    specs=[\n",
    "        [{\"type\": \"scatter\", \"rowspan\": 2}, {\"type\": \"table\"}],\n",
    "        [None, {\"type\": \"table\"}]\n",
    "    ],\n",
    "    subplot_titles=(\n",
    "        f\"<span style='color:{colors['text']}; font-size:16px'>Token Transaction Network</span>\", \n",
    "        f\"<span style='color:{colors['text']}; font-size:16px'>Top Driver Wallets</span>\", \n",
    "        f\"<span style='color:{colors['text']}; font-size:16px'>Network Statistics</span>\"\n",
    "    )\n",
    ")\n",
    "\n",
    "# Add all edge traces with improved styling and hide from legend\n",
    "for edge_trace in edge_traces:\n",
    "    # Customize edge traces\n",
    "    edge_trace.line.color = colors['edge']\n",
    "    edge_trace.line.width = 1.5\n",
    "    edge_trace.opacity = 0.7\n",
    "    edge_trace.showlegend = False\n",
    "    fig.add_trace(edge_trace, row=1, col=1)\n",
    "\n",
    "# Add ALL node traces, but make only the default one visible\n",
    "for idx, (metric, trace) in enumerate(node_trace_options.items()):\n",
    "    trace.visible = (metric == 'Driver Score')  # Only default is visible\n",
    "    fig.add_trace(trace, row=1, col=1)\n",
    "\n",
    "# Add wallet summary table with improved styling\n",
    "fig.add_trace(\n",
    "    go.Table(\n",
    "        header=dict(\n",
    "            values=list(wallet_df.columns),\n",
    "            fill_color=colors['table_header'],\n",
    "            font=dict(color=colors['table_text'], size=13),\n",
    "            align='left',\n",
    "            line_color='rgba(255,255,255,0.2)',\n",
    "            height=30\n",
    "        ),\n",
    "        cells=dict(\n",
    "            values=[wallet_df.get_column(col).to_list() for col in wallet_df.columns],\n",
    "            fill_color=colors['table_cell'],\n",
    "            font=dict(color=colors['table_text'], size=12),\n",
    "            align='left',\n",
    "            line_color='rgba(255,255,255,0.1)',\n",
    "            height=25\n",
    "        ),\n",
    "        columnwidth=[300, 40, 40, 50, 50, 80, 80, 60]  # Wider Address column\n",
    "    ),\n",
    "    row=1, col=2\n",
    ")\n",
    "\n",
    "# Add network stats table with improved styling\n",
    "fig.add_trace(\n",
    "    go.Table(\n",
    "        header=dict(\n",
    "            values=list(stats_df.columns),\n",
    "            fill_color=colors['table_header'],\n",
    "            font=dict(color=colors['table_text'], size=13),\n",
    "            align='left',\n",
    "            line_color='rgba(255,255,255,0.2)',\n",
    "            height=30\n",
    "        ),\n",
    "        cells=dict(\n",
    "            values=[stats_df.get_column(col).to_list() for col in stats_df.columns],\n",
    "            fill_color=colors['table_cell'],\n",
    "            font=dict(color=colors['table_text'], size=12),\n",
    "            align='left',\n",
    "            line_color='rgba(255,255,255,0.1)',\n",
    "            height=25\n",
    "        ),\n",
    "        columnwidth=[150, 100]\n",
    "    ),\n",
    "    row=2, col=2\n",
    ")\n",
    "\n",
    "# Add only the 4 wallet types to the legend\n",
    "legend_entries = [\n",
    "    go.Scatter(\n",
    "        x=[None], y=[None],\n",
    "        mode='markers',\n",
    "        marker=dict(size=15, color=colors['origin_node']),\n",
    "        name='Top Origin Wallets',\n",
    "        showlegend=True,\n",
    "        legendgroup=\"wallet_types\"\n",
    "    ),\n",
    "    go.Scatter(\n",
    "        x=[None], y=[None],\n",
    "        mode='markers',\n",
    "        marker=dict(size=15, color=colors['sender_node']),\n",
    "        name='Sender Wallets',\n",
    "        showlegend=True,\n",
    "        legendgroup=\"wallet_types\"\n",
    "    ),\n",
    "    go.Scatter(\n",
    "        x=[None], y=[None],\n",
    "        mode='markers',\n",
    "        marker=dict(size=15, color=colors['balanced_node']),\n",
    "        name='Balanced Wallets',\n",
    "        showlegend=True,\n",
    "        legendgroup=\"wallet_types\"\n",
    "    ),\n",
    "    go.Scatter(\n",
    "        x=[None], y=[None],\n",
    "        mode='markers',\n",
    "        marker=dict(size=15, color=colors['receiver_node']),\n",
    "        name='Receiver Wallets',\n",
    "        showlegend=True,\n",
    "        legendgroup=\"wallet_types\"\n",
    "    )\n",
    "]\n",
    "\n",
    "# Add the legend entries\n",
    "for entry in legend_entries:\n",
    "    fig.add_trace(entry, row=1, col=1)\n",
    "\n",
    "# Calculate the edge trace count and node trace count for button functionality\n",
    "edge_trace_count = len(edge_traces)\n",
    "node_trace_count = len(node_trace_options)\n",
    "\n",
    "# Create updatemenus\n",
    "updatemenus = [\n",
    "    dict(\n",
    "        buttons=[\n",
    "            dict(\n",
    "                args=[{\n",
    "                    'visible': [\n",
    "                        # Always show edges\n",
    "                        True if i < edge_trace_count else\n",
    "                        # Only show the selected node trace\n",
    "                        (i == edge_trace_count + idx) if edge_trace_count <= i < edge_trace_count + node_trace_count else\n",
    "                        # Always show tables and legend\n",
    "                        True\n",
    "                        for i in range(len(fig.data))\n",
    "                    ]\n",
    "                }],\n",
    "                label=option,\n",
    "                method='update'\n",
    "            ) for idx, option in enumerate(['Driver Score', 'TX Out', 'TX In', 'Total Sent', 'Total Received'])\n",
    "        ],\n",
    "        direction='down',\n",
    "        pad={'r': 10, 't': 10},\n",
    "        showactive=True,\n",
    "        active=0,  # Index of initially active button\n",
    "        x=0.1,\n",
    "        xanchor='left',\n",
    "        y=1.15,\n",
    "        yanchor='top',\n",
    "        # Better dropdown styling for contrast - removed invalid properties\n",
    "        bgcolor=dropdown_color,  # Darker blue that creates better contrast with white hover\n",
    "        bordercolor='rgba(255,255,255,0.3)',\n",
    "        borderwidth=1,\n",
    "        font=dict(color='rgba(150,150,150,0.9)', size=13)\n",
    "    )\n",
    "]\n",
    "\n",
    "# Update layout with improved styling and buttons\n",
    "fig.update_layout(\n",
    "    title=dict(\n",
    "        text=\"Token Transaction Network Analysis - Identifying Driver Wallets\",\n",
    "        font=dict(family=\"Arial, sans-serif\", size=24, color=colors['text']),\n",
    "        x=0.5,\n",
    "        y=0.98\n",
    "    ),\n",
    "    showlegend=True,\n",
    "    legend=dict(\n",
    "        x=0.01,\n",
    "        y=0.99,\n",
    "        bgcolor='rgba(0,0,0,0.5)',\n",
    "        bordercolor='rgba(255,255,255,0.2)',\n",
    "        borderwidth=1,\n",
    "        font=dict(color=colors['text']),\n",
    "        itemsizing='constant'\n",
    "    ),\n",
    "    updatemenus=updatemenus,\n",
    "    annotations=[\n",
    "        dict(text=\"Size Nodes By:\", \n",
    "             x=0.055, \n",
    "             y=1.105, \n",
    "             xref=\"paper\", \n",
    "             yref=\"paper\",\n",
    "             showarrow=False, \n",
    "             font=dict(size=14, color=colors['text'], family=\"Arial, sans-serif\"),\n",
    "             align=\"left\")\n",
    "    ],\n",
    "    hovermode='closest',\n",
    "    margin=dict(b=20, l=5, r=5, t=100),  # Increased top margin for buttons\n",
    "    height=950,  # Slightly increased height for buttons\n",
    "    width=1600,  # Increased width for the table\n",
    "    paper_bgcolor=colors['background'],\n",
    "    plot_bgcolor=colors['background'],\n",
    "    font=dict(family=\"Arial, sans-serif\", color=colors['text']),\n",
    "    transition_duration=500\n",
    ")\n",
    "\n",
    "# Set axis properties\n",
    "fig.update_xaxes(showgrid=False, zeroline=False, showticklabels=False, row=1, col=1)\n",
    "fig.update_yaxes(showgrid=False, zeroline=False, showticklabels=False, row=1, col=1)\n",
    "\n",
    "# Save and show\n",
    "fig.write_html(\"token_transaction_driver_analysis.html\", include_plotlyjs='cdn')\n",
    "fig.show(config={'responsive': True})"
   ]
  },
  {
   "cell_type": "markdown",
   "metadata": {},
   "source": [
    "## Figure \n",
    "Each wallet type in the visualization represents a distinct role in the token transaction network:\n",
    "\n",
    "- **Top Origin Wallets** - These are the most influential wallets that initiate a high volume of transactions. They act as major sources of token distribution within the network. These wallets typically have a high \"out\" to \"in\" transaction ratio and high driver scores, indicating they significantly influence token movement throughout the network.\n",
    "- **Sender Wallets** - These wallets primarily send tokens to other addresses rather than receiving them. They have a positive out/in ratio (greater than 1) but are not as influential as Top Origin Wallets. They function as intermediaries that help distribute tokens across the network.\n",
    "- **Balanced Wallets** - These wallets have roughly equal sending and receiving activity. Their out/in transaction ratio is close to 1, indicating they participate in the network as both receivers and distributors. They often represent active traders, exchanges, or wallets that serve multiple functions.\n",
    "- **Receiver Wallets** - These wallets primarily receive tokens rather than sending them. They have a low out/in ratio (less than 1), functioning as token sinks or end-points in transaction chains. They might represent investors holding assets, user wallets, or inactive addresses.\n",
    "\n",
    "\n",
    "The **Driver Score** is a composite metric that quantifies a wallet's influence within the token transaction network:\n",
    "\n",
    "- **Definition**: A weighted calculation that identifies wallets initiating significant transaction activity\n",
    "- **Components**: Combines outgoing transaction count, total value sent, and network centrality metrics\n",
    "- **Purpose**: Identifies wallets that play a central role in driving network activity and fund flows\n",
    "- **Scale**: Higher scores indicate wallets with more network influence or control\n",
    "- **Calculation**: Weights outgoing transactions (50%), total value sent (30%), and network position (20%)\n",
    "- **Visualization**: Wallets with high Driver Scores appear larger and more prominent in the network visualization\n",
    "- **Analysis Value**: Helps identify potential market movers, token redistributors, or coordinating entities\n",
    "- **Context**: Particularly useful for identifying whale activity or concentrated transaction patterns"
   ]
  }
 ],
 "metadata": {
  "kernelspec": {
   "display_name": "Python 3",
   "language": "python",
   "name": "python3"
  },
  "language_info": {
   "codemirror_mode": {
    "name": "ipython",
    "version": 3
   },
   "file_extension": ".py",
   "mimetype": "text/x-python",
   "name": "python",
   "nbconvert_exporter": "python",
   "pygments_lexer": "ipython3",
   "version": "3.12.3"
  }
 },
 "nbformat": 4,
 "nbformat_minor": 2
}
